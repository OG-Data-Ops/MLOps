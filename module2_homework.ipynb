{
  "nbformat": 4,
  "nbformat_minor": 0,
  "metadata": {
    "colab": {
      "provenance": [],
      "include_colab_link": true
    },
    "kernelspec": {
      "name": "python3",
      "display_name": "Python 3"
    },
    "language_info": {
      "name": "python"
    }
  },
  "cells": [
    {
      "cell_type": "markdown",
      "metadata": {
        "id": "view-in-github",
        "colab_type": "text"
      },
      "source": [
        "<a href=\"https://colab.research.google.com/github/OG-Data-Ops/MLOps/blob/main/module2_homework.ipynb\" target=\"_parent\"><img src=\"https://colab.research.google.com/assets/colab-badge.svg\" alt=\"Open In Colab\"/></a>"
      ]
    },
    {
      "cell_type": "markdown",
      "source": [
        "# Homework 2"
      ],
      "metadata": {
        "id": "6aoGsvbk3-44"
      }
    },
    {
      "cell_type": "code",
      "execution_count": 1,
      "metadata": {
        "id": "NkasN_aB2zRX"
      },
      "outputs": [],
      "source": [
        "import pandas as pd\n",
        "import numpy as np\n",
        "\n",
        "import seaborn as sns\n",
        "from matplotlib import pyplot as plt\n",
        "%matplotlib inline"
      ]
    },
    {
      "cell_type": "markdown",
      "source": [
        "## Download the data"
      ],
      "metadata": {
        "id": "ZXFAty3L4c4M"
      }
    },
    {
      "cell_type": "code",
      "source": [
        "data = 'https://raw.githubusercontent.com/alexeygrigorev/datasets/master/laptops.csv'\n",
        "!wget $data"
      ],
      "metadata": {
        "colab": {
          "base_uri": "https://localhost:8080/"
        },
        "id": "loRkzyf74Dnd",
        "outputId": "7c2d40be-aa0b-4a5d-a9b8-36f719cbb131"
      },
      "execution_count": 2,
      "outputs": [
        {
          "output_type": "stream",
          "name": "stdout",
          "text": [
            "--2024-10-05 12:28:39--  https://raw.githubusercontent.com/alexeygrigorev/datasets/master/laptops.csv\n",
            "Resolving raw.githubusercontent.com (raw.githubusercontent.com)... 185.199.109.133, 185.199.111.133, 185.199.110.133, ...\n",
            "Connecting to raw.githubusercontent.com (raw.githubusercontent.com)|185.199.109.133|:443... connected.\n",
            "HTTP request sent, awaiting response... 200 OK\n",
            "Length: 298573 (292K) [text/plain]\n",
            "Saving to: ‘laptops.csv’\n",
            "\n",
            "\rlaptops.csv           0%[                    ]       0  --.-KB/s               \rlaptops.csv         100%[===================>] 291.58K  --.-KB/s    in 0.008s  \n",
            "\n",
            "2024-10-05 12:28:39 (35.3 MB/s) - ‘laptops.csv’ saved [298573/298573]\n",
            "\n"
          ]
        }
      ]
    },
    {
      "cell_type": "markdown",
      "source": [
        "## Preparing the dataset\n",
        "First, we'll normalize the names of the columns:"
      ],
      "metadata": {
        "id": "amqBy0134h2N"
      }
    },
    {
      "cell_type": "code",
      "source": [
        "df = pd.read_csv('laptops.csv')\n",
        "df.head()"
      ],
      "metadata": {
        "colab": {
          "base_uri": "https://localhost:8080/",
          "height": 204
        },
        "id": "97M-vXO_4gyZ",
        "outputId": "2ba7087a-4e82-4878-904f-bba5d94888b0"
      },
      "execution_count": 3,
      "outputs": [
        {
          "output_type": "execute_result",
          "data": {
            "text/plain": [
              "                                              Laptop Status   Brand  \\\n",
              "0  ASUS ExpertBook B1 B1502CBA-EJ0436X Intel Core...    New    Asus   \n",
              "1  Alurin Go Start Intel Celeron N4020/8GB/256GB ...    New  Alurin   \n",
              "2  ASUS ExpertBook B1 B1502CBA-EJ0424X Intel Core...    New    Asus   \n",
              "3  MSI Katana GF66 12UC-082XES Intel Core i7-1270...    New     MSI   \n",
              "4  HP 15S-FQ5085NS Intel Core i5-1235U/16GB/512GB...    New      HP   \n",
              "\n",
              "        Model            CPU  RAM  Storage Storage type       GPU  Screen  \\\n",
              "0  ExpertBook  Intel Core i5    8      512          SSD       NaN    15.6   \n",
              "1          Go  Intel Celeron    8      256          SSD       NaN    15.6   \n",
              "2  ExpertBook  Intel Core i3    8      256          SSD       NaN    15.6   \n",
              "3      Katana  Intel Core i7   16     1000          SSD  RTX 3050    15.6   \n",
              "4         15S  Intel Core i5   16      512          SSD       NaN    15.6   \n",
              "\n",
              "  Touch  Final Price  \n",
              "0    No      1009.00  \n",
              "1    No       299.00  \n",
              "2    No       789.00  \n",
              "3    No      1199.00  \n",
              "4    No       669.01  "
            ],
            "text/html": [
              "\n",
              "  <div id=\"df-c85bcb04-5f30-47db-8cd3-4adbd67671b4\" class=\"colab-df-container\">\n",
              "    <div>\n",
              "<style scoped>\n",
              "    .dataframe tbody tr th:only-of-type {\n",
              "        vertical-align: middle;\n",
              "    }\n",
              "\n",
              "    .dataframe tbody tr th {\n",
              "        vertical-align: top;\n",
              "    }\n",
              "\n",
              "    .dataframe thead th {\n",
              "        text-align: right;\n",
              "    }\n",
              "</style>\n",
              "<table border=\"1\" class=\"dataframe\">\n",
              "  <thead>\n",
              "    <tr style=\"text-align: right;\">\n",
              "      <th></th>\n",
              "      <th>Laptop</th>\n",
              "      <th>Status</th>\n",
              "      <th>Brand</th>\n",
              "      <th>Model</th>\n",
              "      <th>CPU</th>\n",
              "      <th>RAM</th>\n",
              "      <th>Storage</th>\n",
              "      <th>Storage type</th>\n",
              "      <th>GPU</th>\n",
              "      <th>Screen</th>\n",
              "      <th>Touch</th>\n",
              "      <th>Final Price</th>\n",
              "    </tr>\n",
              "  </thead>\n",
              "  <tbody>\n",
              "    <tr>\n",
              "      <th>0</th>\n",
              "      <td>ASUS ExpertBook B1 B1502CBA-EJ0436X Intel Core...</td>\n",
              "      <td>New</td>\n",
              "      <td>Asus</td>\n",
              "      <td>ExpertBook</td>\n",
              "      <td>Intel Core i5</td>\n",
              "      <td>8</td>\n",
              "      <td>512</td>\n",
              "      <td>SSD</td>\n",
              "      <td>NaN</td>\n",
              "      <td>15.6</td>\n",
              "      <td>No</td>\n",
              "      <td>1009.00</td>\n",
              "    </tr>\n",
              "    <tr>\n",
              "      <th>1</th>\n",
              "      <td>Alurin Go Start Intel Celeron N4020/8GB/256GB ...</td>\n",
              "      <td>New</td>\n",
              "      <td>Alurin</td>\n",
              "      <td>Go</td>\n",
              "      <td>Intel Celeron</td>\n",
              "      <td>8</td>\n",
              "      <td>256</td>\n",
              "      <td>SSD</td>\n",
              "      <td>NaN</td>\n",
              "      <td>15.6</td>\n",
              "      <td>No</td>\n",
              "      <td>299.00</td>\n",
              "    </tr>\n",
              "    <tr>\n",
              "      <th>2</th>\n",
              "      <td>ASUS ExpertBook B1 B1502CBA-EJ0424X Intel Core...</td>\n",
              "      <td>New</td>\n",
              "      <td>Asus</td>\n",
              "      <td>ExpertBook</td>\n",
              "      <td>Intel Core i3</td>\n",
              "      <td>8</td>\n",
              "      <td>256</td>\n",
              "      <td>SSD</td>\n",
              "      <td>NaN</td>\n",
              "      <td>15.6</td>\n",
              "      <td>No</td>\n",
              "      <td>789.00</td>\n",
              "    </tr>\n",
              "    <tr>\n",
              "      <th>3</th>\n",
              "      <td>MSI Katana GF66 12UC-082XES Intel Core i7-1270...</td>\n",
              "      <td>New</td>\n",
              "      <td>MSI</td>\n",
              "      <td>Katana</td>\n",
              "      <td>Intel Core i7</td>\n",
              "      <td>16</td>\n",
              "      <td>1000</td>\n",
              "      <td>SSD</td>\n",
              "      <td>RTX 3050</td>\n",
              "      <td>15.6</td>\n",
              "      <td>No</td>\n",
              "      <td>1199.00</td>\n",
              "    </tr>\n",
              "    <tr>\n",
              "      <th>4</th>\n",
              "      <td>HP 15S-FQ5085NS Intel Core i5-1235U/16GB/512GB...</td>\n",
              "      <td>New</td>\n",
              "      <td>HP</td>\n",
              "      <td>15S</td>\n",
              "      <td>Intel Core i5</td>\n",
              "      <td>16</td>\n",
              "      <td>512</td>\n",
              "      <td>SSD</td>\n",
              "      <td>NaN</td>\n",
              "      <td>15.6</td>\n",
              "      <td>No</td>\n",
              "      <td>669.01</td>\n",
              "    </tr>\n",
              "  </tbody>\n",
              "</table>\n",
              "</div>\n",
              "    <div class=\"colab-df-buttons\">\n",
              "\n",
              "  <div class=\"colab-df-container\">\n",
              "    <button class=\"colab-df-convert\" onclick=\"convertToInteractive('df-c85bcb04-5f30-47db-8cd3-4adbd67671b4')\"\n",
              "            title=\"Convert this dataframe to an interactive table.\"\n",
              "            style=\"display:none;\">\n",
              "\n",
              "  <svg xmlns=\"http://www.w3.org/2000/svg\" height=\"24px\" viewBox=\"0 -960 960 960\">\n",
              "    <path d=\"M120-120v-720h720v720H120Zm60-500h600v-160H180v160Zm220 220h160v-160H400v160Zm0 220h160v-160H400v160ZM180-400h160v-160H180v160Zm440 0h160v-160H620v160ZM180-180h160v-160H180v160Zm440 0h160v-160H620v160Z\"/>\n",
              "  </svg>\n",
              "    </button>\n",
              "\n",
              "  <style>\n",
              "    .colab-df-container {\n",
              "      display:flex;\n",
              "      gap: 12px;\n",
              "    }\n",
              "\n",
              "    .colab-df-convert {\n",
              "      background-color: #E8F0FE;\n",
              "      border: none;\n",
              "      border-radius: 50%;\n",
              "      cursor: pointer;\n",
              "      display: none;\n",
              "      fill: #1967D2;\n",
              "      height: 32px;\n",
              "      padding: 0 0 0 0;\n",
              "      width: 32px;\n",
              "    }\n",
              "\n",
              "    .colab-df-convert:hover {\n",
              "      background-color: #E2EBFA;\n",
              "      box-shadow: 0px 1px 2px rgba(60, 64, 67, 0.3), 0px 1px 3px 1px rgba(60, 64, 67, 0.15);\n",
              "      fill: #174EA6;\n",
              "    }\n",
              "\n",
              "    .colab-df-buttons div {\n",
              "      margin-bottom: 4px;\n",
              "    }\n",
              "\n",
              "    [theme=dark] .colab-df-convert {\n",
              "      background-color: #3B4455;\n",
              "      fill: #D2E3FC;\n",
              "    }\n",
              "\n",
              "    [theme=dark] .colab-df-convert:hover {\n",
              "      background-color: #434B5C;\n",
              "      box-shadow: 0px 1px 3px 1px rgba(0, 0, 0, 0.15);\n",
              "      filter: drop-shadow(0px 1px 2px rgba(0, 0, 0, 0.3));\n",
              "      fill: #FFFFFF;\n",
              "    }\n",
              "  </style>\n",
              "\n",
              "    <script>\n",
              "      const buttonEl =\n",
              "        document.querySelector('#df-c85bcb04-5f30-47db-8cd3-4adbd67671b4 button.colab-df-convert');\n",
              "      buttonEl.style.display =\n",
              "        google.colab.kernel.accessAllowed ? 'block' : 'none';\n",
              "\n",
              "      async function convertToInteractive(key) {\n",
              "        const element = document.querySelector('#df-c85bcb04-5f30-47db-8cd3-4adbd67671b4');\n",
              "        const dataTable =\n",
              "          await google.colab.kernel.invokeFunction('convertToInteractive',\n",
              "                                                    [key], {});\n",
              "        if (!dataTable) return;\n",
              "\n",
              "        const docLinkHtml = 'Like what you see? Visit the ' +\n",
              "          '<a target=\"_blank\" href=https://colab.research.google.com/notebooks/data_table.ipynb>data table notebook</a>'\n",
              "          + ' to learn more about interactive tables.';\n",
              "        element.innerHTML = '';\n",
              "        dataTable['output_type'] = 'display_data';\n",
              "        await google.colab.output.renderOutput(dataTable, element);\n",
              "        const docLink = document.createElement('div');\n",
              "        docLink.innerHTML = docLinkHtml;\n",
              "        element.appendChild(docLink);\n",
              "      }\n",
              "    </script>\n",
              "  </div>\n",
              "\n",
              "\n",
              "<div id=\"df-7261864d-3449-4f26-b274-0f014523e4e5\">\n",
              "  <button class=\"colab-df-quickchart\" onclick=\"quickchart('df-7261864d-3449-4f26-b274-0f014523e4e5')\"\n",
              "            title=\"Suggest charts\"\n",
              "            style=\"display:none;\">\n",
              "\n",
              "<svg xmlns=\"http://www.w3.org/2000/svg\" height=\"24px\"viewBox=\"0 0 24 24\"\n",
              "     width=\"24px\">\n",
              "    <g>\n",
              "        <path d=\"M19 3H5c-1.1 0-2 .9-2 2v14c0 1.1.9 2 2 2h14c1.1 0 2-.9 2-2V5c0-1.1-.9-2-2-2zM9 17H7v-7h2v7zm4 0h-2V7h2v10zm4 0h-2v-4h2v4z\"/>\n",
              "    </g>\n",
              "</svg>\n",
              "  </button>\n",
              "\n",
              "<style>\n",
              "  .colab-df-quickchart {\n",
              "      --bg-color: #E8F0FE;\n",
              "      --fill-color: #1967D2;\n",
              "      --hover-bg-color: #E2EBFA;\n",
              "      --hover-fill-color: #174EA6;\n",
              "      --disabled-fill-color: #AAA;\n",
              "      --disabled-bg-color: #DDD;\n",
              "  }\n",
              "\n",
              "  [theme=dark] .colab-df-quickchart {\n",
              "      --bg-color: #3B4455;\n",
              "      --fill-color: #D2E3FC;\n",
              "      --hover-bg-color: #434B5C;\n",
              "      --hover-fill-color: #FFFFFF;\n",
              "      --disabled-bg-color: #3B4455;\n",
              "      --disabled-fill-color: #666;\n",
              "  }\n",
              "\n",
              "  .colab-df-quickchart {\n",
              "    background-color: var(--bg-color);\n",
              "    border: none;\n",
              "    border-radius: 50%;\n",
              "    cursor: pointer;\n",
              "    display: none;\n",
              "    fill: var(--fill-color);\n",
              "    height: 32px;\n",
              "    padding: 0;\n",
              "    width: 32px;\n",
              "  }\n",
              "\n",
              "  .colab-df-quickchart:hover {\n",
              "    background-color: var(--hover-bg-color);\n",
              "    box-shadow: 0 1px 2px rgba(60, 64, 67, 0.3), 0 1px 3px 1px rgba(60, 64, 67, 0.15);\n",
              "    fill: var(--button-hover-fill-color);\n",
              "  }\n",
              "\n",
              "  .colab-df-quickchart-complete:disabled,\n",
              "  .colab-df-quickchart-complete:disabled:hover {\n",
              "    background-color: var(--disabled-bg-color);\n",
              "    fill: var(--disabled-fill-color);\n",
              "    box-shadow: none;\n",
              "  }\n",
              "\n",
              "  .colab-df-spinner {\n",
              "    border: 2px solid var(--fill-color);\n",
              "    border-color: transparent;\n",
              "    border-bottom-color: var(--fill-color);\n",
              "    animation:\n",
              "      spin 1s steps(1) infinite;\n",
              "  }\n",
              "\n",
              "  @keyframes spin {\n",
              "    0% {\n",
              "      border-color: transparent;\n",
              "      border-bottom-color: var(--fill-color);\n",
              "      border-left-color: var(--fill-color);\n",
              "    }\n",
              "    20% {\n",
              "      border-color: transparent;\n",
              "      border-left-color: var(--fill-color);\n",
              "      border-top-color: var(--fill-color);\n",
              "    }\n",
              "    30% {\n",
              "      border-color: transparent;\n",
              "      border-left-color: var(--fill-color);\n",
              "      border-top-color: var(--fill-color);\n",
              "      border-right-color: var(--fill-color);\n",
              "    }\n",
              "    40% {\n",
              "      border-color: transparent;\n",
              "      border-right-color: var(--fill-color);\n",
              "      border-top-color: var(--fill-color);\n",
              "    }\n",
              "    60% {\n",
              "      border-color: transparent;\n",
              "      border-right-color: var(--fill-color);\n",
              "    }\n",
              "    80% {\n",
              "      border-color: transparent;\n",
              "      border-right-color: var(--fill-color);\n",
              "      border-bottom-color: var(--fill-color);\n",
              "    }\n",
              "    90% {\n",
              "      border-color: transparent;\n",
              "      border-bottom-color: var(--fill-color);\n",
              "    }\n",
              "  }\n",
              "</style>\n",
              "\n",
              "  <script>\n",
              "    async function quickchart(key) {\n",
              "      const quickchartButtonEl =\n",
              "        document.querySelector('#' + key + ' button');\n",
              "      quickchartButtonEl.disabled = true;  // To prevent multiple clicks.\n",
              "      quickchartButtonEl.classList.add('colab-df-spinner');\n",
              "      try {\n",
              "        const charts = await google.colab.kernel.invokeFunction(\n",
              "            'suggestCharts', [key], {});\n",
              "      } catch (error) {\n",
              "        console.error('Error during call to suggestCharts:', error);\n",
              "      }\n",
              "      quickchartButtonEl.classList.remove('colab-df-spinner');\n",
              "      quickchartButtonEl.classList.add('colab-df-quickchart-complete');\n",
              "    }\n",
              "    (() => {\n",
              "      let quickchartButtonEl =\n",
              "        document.querySelector('#df-7261864d-3449-4f26-b274-0f014523e4e5 button');\n",
              "      quickchartButtonEl.style.display =\n",
              "        google.colab.kernel.accessAllowed ? 'block' : 'none';\n",
              "    })();\n",
              "  </script>\n",
              "</div>\n",
              "\n",
              "    </div>\n",
              "  </div>\n"
            ],
            "application/vnd.google.colaboratory.intrinsic+json": {
              "type": "dataframe",
              "variable_name": "df",
              "summary": "{\n  \"name\": \"df\",\n  \"rows\": 2160,\n  \"fields\": [\n    {\n      \"column\": \"Laptop\",\n      \"properties\": {\n        \"dtype\": \"string\",\n        \"num_unique_values\": 2160,\n        \"samples\": [\n          \"MSI Modern 15 A11SBU-620XES Intel Core i7-1165G7/32GB/1TB SSD/MX450/15.6\\\"\",\n          \"Thomson Neo White Intel Celeron N4020/4GB/64GB eMMC/14.1\\\"\",\n          \"MSI Modern 14 B11SB-420XES Intel Core i7-1165G7/32GB/1TB SSD/MX450/14\\\"\"\n        ],\n        \"semantic_type\": \"\",\n        \"description\": \"\"\n      }\n    },\n    {\n      \"column\": \"Status\",\n      \"properties\": {\n        \"dtype\": \"category\",\n        \"num_unique_values\": 2,\n        \"samples\": [\n          \"Refurbished\",\n          \"New\"\n        ],\n        \"semantic_type\": \"\",\n        \"description\": \"\"\n      }\n    },\n    {\n      \"column\": \"Brand\",\n      \"properties\": {\n        \"dtype\": \"category\",\n        \"num_unique_values\": 27,\n        \"samples\": [\n          \"Razer\",\n          \"PcCom\"\n        ],\n        \"semantic_type\": \"\",\n        \"description\": \"\"\n      }\n    },\n    {\n      \"column\": \"Model\",\n      \"properties\": {\n        \"dtype\": \"category\",\n        \"num_unique_values\": 121,\n        \"samples\": [\n          \"Aero\",\n          \"Erazer\"\n        ],\n        \"semantic_type\": \"\",\n        \"description\": \"\"\n      }\n    },\n    {\n      \"column\": \"CPU\",\n      \"properties\": {\n        \"dtype\": \"category\",\n        \"num_unique_values\": 28,\n        \"samples\": [\n          \"Apple M2\",\n          \"AMD 3015Ce\"\n        ],\n        \"semantic_type\": \"\",\n        \"description\": \"\"\n      }\n    },\n    {\n      \"column\": \"RAM\",\n      \"properties\": {\n        \"dtype\": \"number\",\n        \"std\": 9,\n        \"min\": 4,\n        \"max\": 128,\n        \"num_unique_values\": 9,\n        \"samples\": [\n          6,\n          16\n        ],\n        \"semantic_type\": \"\",\n        \"description\": \"\"\n      }\n    },\n    {\n      \"column\": \"Storage\",\n      \"properties\": {\n        \"dtype\": \"number\",\n        \"std\": 361,\n        \"min\": 0,\n        \"max\": 4000,\n        \"num_unique_values\": 12,\n        \"samples\": [\n          3000,\n          4000\n        ],\n        \"semantic_type\": \"\",\n        \"description\": \"\"\n      }\n    },\n    {\n      \"column\": \"Storage type\",\n      \"properties\": {\n        \"dtype\": \"category\",\n        \"num_unique_values\": 2,\n        \"samples\": [\n          \"eMMC\",\n          \"SSD\"\n        ],\n        \"semantic_type\": \"\",\n        \"description\": \"\"\n      }\n    },\n    {\n      \"column\": \"GPU\",\n      \"properties\": {\n        \"dtype\": \"category\",\n        \"num_unique_values\": 44,\n        \"samples\": [\n          \"RTX 2080\",\n          \"Radeon Pro 5500M\"\n        ],\n        \"semantic_type\": \"\",\n        \"description\": \"\"\n      }\n    },\n    {\n      \"column\": \"Screen\",\n      \"properties\": {\n        \"dtype\": \"number\",\n        \"std\": 1.203328758328451,\n        \"min\": 10.1,\n        \"max\": 18.0,\n        \"num_unique_values\": 29,\n        \"samples\": [\n          12.0,\n          16.2\n        ],\n        \"semantic_type\": \"\",\n        \"description\": \"\"\n      }\n    },\n    {\n      \"column\": \"Touch\",\n      \"properties\": {\n        \"dtype\": \"category\",\n        \"num_unique_values\": 2,\n        \"samples\": [\n          \"Yes\",\n          \"No\"\n        ],\n        \"semantic_type\": \"\",\n        \"description\": \"\"\n      }\n    },\n    {\n      \"column\": \"Final Price\",\n      \"properties\": {\n        \"dtype\": \"number\",\n        \"std\": 911.4754170328499,\n        \"min\": 201.05,\n        \"max\": 7150.47,\n        \"num_unique_values\": 1440,\n        \"samples\": [\n          3599.0,\n          1799.9\n        ],\n        \"semantic_type\": \"\",\n        \"description\": \"\"\n      }\n    }\n  ]\n}"
            }
          },
          "metadata": {},
          "execution_count": 3
        }
      ]
    },
    {
      "cell_type": "code",
      "source": [
        "df.columns = df.columns.str.lower().str.replace(' ', '_')"
      ],
      "metadata": {
        "id": "TsrCPhFb49yu"
      },
      "execution_count": 4,
      "outputs": []
    },
    {
      "cell_type": "code",
      "source": [
        "df.head()"
      ],
      "metadata": {
        "colab": {
          "base_uri": "https://localhost:8080/",
          "height": 204
        },
        "id": "gdxWbRzO5OSR",
        "outputId": "a87209a2-7b4a-4edb-bccd-7875f32d738d"
      },
      "execution_count": 5,
      "outputs": [
        {
          "output_type": "execute_result",
          "data": {
            "text/plain": [
              "                                              laptop status   brand  \\\n",
              "0  ASUS ExpertBook B1 B1502CBA-EJ0436X Intel Core...    New    Asus   \n",
              "1  Alurin Go Start Intel Celeron N4020/8GB/256GB ...    New  Alurin   \n",
              "2  ASUS ExpertBook B1 B1502CBA-EJ0424X Intel Core...    New    Asus   \n",
              "3  MSI Katana GF66 12UC-082XES Intel Core i7-1270...    New     MSI   \n",
              "4  HP 15S-FQ5085NS Intel Core i5-1235U/16GB/512GB...    New      HP   \n",
              "\n",
              "        model            cpu  ram  storage storage_type       gpu  screen  \\\n",
              "0  ExpertBook  Intel Core i5    8      512          SSD       NaN    15.6   \n",
              "1          Go  Intel Celeron    8      256          SSD       NaN    15.6   \n",
              "2  ExpertBook  Intel Core i3    8      256          SSD       NaN    15.6   \n",
              "3      Katana  Intel Core i7   16     1000          SSD  RTX 3050    15.6   \n",
              "4         15S  Intel Core i5   16      512          SSD       NaN    15.6   \n",
              "\n",
              "  touch  final_price  \n",
              "0    No      1009.00  \n",
              "1    No       299.00  \n",
              "2    No       789.00  \n",
              "3    No      1199.00  \n",
              "4    No       669.01  "
            ],
            "text/html": [
              "\n",
              "  <div id=\"df-f4ae5fab-2823-469a-8e4e-f0d2dec509eb\" class=\"colab-df-container\">\n",
              "    <div>\n",
              "<style scoped>\n",
              "    .dataframe tbody tr th:only-of-type {\n",
              "        vertical-align: middle;\n",
              "    }\n",
              "\n",
              "    .dataframe tbody tr th {\n",
              "        vertical-align: top;\n",
              "    }\n",
              "\n",
              "    .dataframe thead th {\n",
              "        text-align: right;\n",
              "    }\n",
              "</style>\n",
              "<table border=\"1\" class=\"dataframe\">\n",
              "  <thead>\n",
              "    <tr style=\"text-align: right;\">\n",
              "      <th></th>\n",
              "      <th>laptop</th>\n",
              "      <th>status</th>\n",
              "      <th>brand</th>\n",
              "      <th>model</th>\n",
              "      <th>cpu</th>\n",
              "      <th>ram</th>\n",
              "      <th>storage</th>\n",
              "      <th>storage_type</th>\n",
              "      <th>gpu</th>\n",
              "      <th>screen</th>\n",
              "      <th>touch</th>\n",
              "      <th>final_price</th>\n",
              "    </tr>\n",
              "  </thead>\n",
              "  <tbody>\n",
              "    <tr>\n",
              "      <th>0</th>\n",
              "      <td>ASUS ExpertBook B1 B1502CBA-EJ0436X Intel Core...</td>\n",
              "      <td>New</td>\n",
              "      <td>Asus</td>\n",
              "      <td>ExpertBook</td>\n",
              "      <td>Intel Core i5</td>\n",
              "      <td>8</td>\n",
              "      <td>512</td>\n",
              "      <td>SSD</td>\n",
              "      <td>NaN</td>\n",
              "      <td>15.6</td>\n",
              "      <td>No</td>\n",
              "      <td>1009.00</td>\n",
              "    </tr>\n",
              "    <tr>\n",
              "      <th>1</th>\n",
              "      <td>Alurin Go Start Intel Celeron N4020/8GB/256GB ...</td>\n",
              "      <td>New</td>\n",
              "      <td>Alurin</td>\n",
              "      <td>Go</td>\n",
              "      <td>Intel Celeron</td>\n",
              "      <td>8</td>\n",
              "      <td>256</td>\n",
              "      <td>SSD</td>\n",
              "      <td>NaN</td>\n",
              "      <td>15.6</td>\n",
              "      <td>No</td>\n",
              "      <td>299.00</td>\n",
              "    </tr>\n",
              "    <tr>\n",
              "      <th>2</th>\n",
              "      <td>ASUS ExpertBook B1 B1502CBA-EJ0424X Intel Core...</td>\n",
              "      <td>New</td>\n",
              "      <td>Asus</td>\n",
              "      <td>ExpertBook</td>\n",
              "      <td>Intel Core i3</td>\n",
              "      <td>8</td>\n",
              "      <td>256</td>\n",
              "      <td>SSD</td>\n",
              "      <td>NaN</td>\n",
              "      <td>15.6</td>\n",
              "      <td>No</td>\n",
              "      <td>789.00</td>\n",
              "    </tr>\n",
              "    <tr>\n",
              "      <th>3</th>\n",
              "      <td>MSI Katana GF66 12UC-082XES Intel Core i7-1270...</td>\n",
              "      <td>New</td>\n",
              "      <td>MSI</td>\n",
              "      <td>Katana</td>\n",
              "      <td>Intel Core i7</td>\n",
              "      <td>16</td>\n",
              "      <td>1000</td>\n",
              "      <td>SSD</td>\n",
              "      <td>RTX 3050</td>\n",
              "      <td>15.6</td>\n",
              "      <td>No</td>\n",
              "      <td>1199.00</td>\n",
              "    </tr>\n",
              "    <tr>\n",
              "      <th>4</th>\n",
              "      <td>HP 15S-FQ5085NS Intel Core i5-1235U/16GB/512GB...</td>\n",
              "      <td>New</td>\n",
              "      <td>HP</td>\n",
              "      <td>15S</td>\n",
              "      <td>Intel Core i5</td>\n",
              "      <td>16</td>\n",
              "      <td>512</td>\n",
              "      <td>SSD</td>\n",
              "      <td>NaN</td>\n",
              "      <td>15.6</td>\n",
              "      <td>No</td>\n",
              "      <td>669.01</td>\n",
              "    </tr>\n",
              "  </tbody>\n",
              "</table>\n",
              "</div>\n",
              "    <div class=\"colab-df-buttons\">\n",
              "\n",
              "  <div class=\"colab-df-container\">\n",
              "    <button class=\"colab-df-convert\" onclick=\"convertToInteractive('df-f4ae5fab-2823-469a-8e4e-f0d2dec509eb')\"\n",
              "            title=\"Convert this dataframe to an interactive table.\"\n",
              "            style=\"display:none;\">\n",
              "\n",
              "  <svg xmlns=\"http://www.w3.org/2000/svg\" height=\"24px\" viewBox=\"0 -960 960 960\">\n",
              "    <path d=\"M120-120v-720h720v720H120Zm60-500h600v-160H180v160Zm220 220h160v-160H400v160Zm0 220h160v-160H400v160ZM180-400h160v-160H180v160Zm440 0h160v-160H620v160ZM180-180h160v-160H180v160Zm440 0h160v-160H620v160Z\"/>\n",
              "  </svg>\n",
              "    </button>\n",
              "\n",
              "  <style>\n",
              "    .colab-df-container {\n",
              "      display:flex;\n",
              "      gap: 12px;\n",
              "    }\n",
              "\n",
              "    .colab-df-convert {\n",
              "      background-color: #E8F0FE;\n",
              "      border: none;\n",
              "      border-radius: 50%;\n",
              "      cursor: pointer;\n",
              "      display: none;\n",
              "      fill: #1967D2;\n",
              "      height: 32px;\n",
              "      padding: 0 0 0 0;\n",
              "      width: 32px;\n",
              "    }\n",
              "\n",
              "    .colab-df-convert:hover {\n",
              "      background-color: #E2EBFA;\n",
              "      box-shadow: 0px 1px 2px rgba(60, 64, 67, 0.3), 0px 1px 3px 1px rgba(60, 64, 67, 0.15);\n",
              "      fill: #174EA6;\n",
              "    }\n",
              "\n",
              "    .colab-df-buttons div {\n",
              "      margin-bottom: 4px;\n",
              "    }\n",
              "\n",
              "    [theme=dark] .colab-df-convert {\n",
              "      background-color: #3B4455;\n",
              "      fill: #D2E3FC;\n",
              "    }\n",
              "\n",
              "    [theme=dark] .colab-df-convert:hover {\n",
              "      background-color: #434B5C;\n",
              "      box-shadow: 0px 1px 3px 1px rgba(0, 0, 0, 0.15);\n",
              "      filter: drop-shadow(0px 1px 2px rgba(0, 0, 0, 0.3));\n",
              "      fill: #FFFFFF;\n",
              "    }\n",
              "  </style>\n",
              "\n",
              "    <script>\n",
              "      const buttonEl =\n",
              "        document.querySelector('#df-f4ae5fab-2823-469a-8e4e-f0d2dec509eb button.colab-df-convert');\n",
              "      buttonEl.style.display =\n",
              "        google.colab.kernel.accessAllowed ? 'block' : 'none';\n",
              "\n",
              "      async function convertToInteractive(key) {\n",
              "        const element = document.querySelector('#df-f4ae5fab-2823-469a-8e4e-f0d2dec509eb');\n",
              "        const dataTable =\n",
              "          await google.colab.kernel.invokeFunction('convertToInteractive',\n",
              "                                                    [key], {});\n",
              "        if (!dataTable) return;\n",
              "\n",
              "        const docLinkHtml = 'Like what you see? Visit the ' +\n",
              "          '<a target=\"_blank\" href=https://colab.research.google.com/notebooks/data_table.ipynb>data table notebook</a>'\n",
              "          + ' to learn more about interactive tables.';\n",
              "        element.innerHTML = '';\n",
              "        dataTable['output_type'] = 'display_data';\n",
              "        await google.colab.output.renderOutput(dataTable, element);\n",
              "        const docLink = document.createElement('div');\n",
              "        docLink.innerHTML = docLinkHtml;\n",
              "        element.appendChild(docLink);\n",
              "      }\n",
              "    </script>\n",
              "  </div>\n",
              "\n",
              "\n",
              "<div id=\"df-b550a833-f2bd-4db4-b751-c2655ba3b222\">\n",
              "  <button class=\"colab-df-quickchart\" onclick=\"quickchart('df-b550a833-f2bd-4db4-b751-c2655ba3b222')\"\n",
              "            title=\"Suggest charts\"\n",
              "            style=\"display:none;\">\n",
              "\n",
              "<svg xmlns=\"http://www.w3.org/2000/svg\" height=\"24px\"viewBox=\"0 0 24 24\"\n",
              "     width=\"24px\">\n",
              "    <g>\n",
              "        <path d=\"M19 3H5c-1.1 0-2 .9-2 2v14c0 1.1.9 2 2 2h14c1.1 0 2-.9 2-2V5c0-1.1-.9-2-2-2zM9 17H7v-7h2v7zm4 0h-2V7h2v10zm4 0h-2v-4h2v4z\"/>\n",
              "    </g>\n",
              "</svg>\n",
              "  </button>\n",
              "\n",
              "<style>\n",
              "  .colab-df-quickchart {\n",
              "      --bg-color: #E8F0FE;\n",
              "      --fill-color: #1967D2;\n",
              "      --hover-bg-color: #E2EBFA;\n",
              "      --hover-fill-color: #174EA6;\n",
              "      --disabled-fill-color: #AAA;\n",
              "      --disabled-bg-color: #DDD;\n",
              "  }\n",
              "\n",
              "  [theme=dark] .colab-df-quickchart {\n",
              "      --bg-color: #3B4455;\n",
              "      --fill-color: #D2E3FC;\n",
              "      --hover-bg-color: #434B5C;\n",
              "      --hover-fill-color: #FFFFFF;\n",
              "      --disabled-bg-color: #3B4455;\n",
              "      --disabled-fill-color: #666;\n",
              "  }\n",
              "\n",
              "  .colab-df-quickchart {\n",
              "    background-color: var(--bg-color);\n",
              "    border: none;\n",
              "    border-radius: 50%;\n",
              "    cursor: pointer;\n",
              "    display: none;\n",
              "    fill: var(--fill-color);\n",
              "    height: 32px;\n",
              "    padding: 0;\n",
              "    width: 32px;\n",
              "  }\n",
              "\n",
              "  .colab-df-quickchart:hover {\n",
              "    background-color: var(--hover-bg-color);\n",
              "    box-shadow: 0 1px 2px rgba(60, 64, 67, 0.3), 0 1px 3px 1px rgba(60, 64, 67, 0.15);\n",
              "    fill: var(--button-hover-fill-color);\n",
              "  }\n",
              "\n",
              "  .colab-df-quickchart-complete:disabled,\n",
              "  .colab-df-quickchart-complete:disabled:hover {\n",
              "    background-color: var(--disabled-bg-color);\n",
              "    fill: var(--disabled-fill-color);\n",
              "    box-shadow: none;\n",
              "  }\n",
              "\n",
              "  .colab-df-spinner {\n",
              "    border: 2px solid var(--fill-color);\n",
              "    border-color: transparent;\n",
              "    border-bottom-color: var(--fill-color);\n",
              "    animation:\n",
              "      spin 1s steps(1) infinite;\n",
              "  }\n",
              "\n",
              "  @keyframes spin {\n",
              "    0% {\n",
              "      border-color: transparent;\n",
              "      border-bottom-color: var(--fill-color);\n",
              "      border-left-color: var(--fill-color);\n",
              "    }\n",
              "    20% {\n",
              "      border-color: transparent;\n",
              "      border-left-color: var(--fill-color);\n",
              "      border-top-color: var(--fill-color);\n",
              "    }\n",
              "    30% {\n",
              "      border-color: transparent;\n",
              "      border-left-color: var(--fill-color);\n",
              "      border-top-color: var(--fill-color);\n",
              "      border-right-color: var(--fill-color);\n",
              "    }\n",
              "    40% {\n",
              "      border-color: transparent;\n",
              "      border-right-color: var(--fill-color);\n",
              "      border-top-color: var(--fill-color);\n",
              "    }\n",
              "    60% {\n",
              "      border-color: transparent;\n",
              "      border-right-color: var(--fill-color);\n",
              "    }\n",
              "    80% {\n",
              "      border-color: transparent;\n",
              "      border-right-color: var(--fill-color);\n",
              "      border-bottom-color: var(--fill-color);\n",
              "    }\n",
              "    90% {\n",
              "      border-color: transparent;\n",
              "      border-bottom-color: var(--fill-color);\n",
              "    }\n",
              "  }\n",
              "</style>\n",
              "\n",
              "  <script>\n",
              "    async function quickchart(key) {\n",
              "      const quickchartButtonEl =\n",
              "        document.querySelector('#' + key + ' button');\n",
              "      quickchartButtonEl.disabled = true;  // To prevent multiple clicks.\n",
              "      quickchartButtonEl.classList.add('colab-df-spinner');\n",
              "      try {\n",
              "        const charts = await google.colab.kernel.invokeFunction(\n",
              "            'suggestCharts', [key], {});\n",
              "      } catch (error) {\n",
              "        console.error('Error during call to suggestCharts:', error);\n",
              "      }\n",
              "      quickchartButtonEl.classList.remove('colab-df-spinner');\n",
              "      quickchartButtonEl.classList.add('colab-df-quickchart-complete');\n",
              "    }\n",
              "    (() => {\n",
              "      let quickchartButtonEl =\n",
              "        document.querySelector('#df-b550a833-f2bd-4db4-b751-c2655ba3b222 button');\n",
              "      quickchartButtonEl.style.display =\n",
              "        google.colab.kernel.accessAllowed ? 'block' : 'none';\n",
              "    })();\n",
              "  </script>\n",
              "</div>\n",
              "\n",
              "    </div>\n",
              "  </div>\n"
            ],
            "application/vnd.google.colaboratory.intrinsic+json": {
              "type": "dataframe",
              "variable_name": "df",
              "summary": "{\n  \"name\": \"df\",\n  \"rows\": 2160,\n  \"fields\": [\n    {\n      \"column\": \"laptop\",\n      \"properties\": {\n        \"dtype\": \"string\",\n        \"num_unique_values\": 2160,\n        \"samples\": [\n          \"MSI Modern 15 A11SBU-620XES Intel Core i7-1165G7/32GB/1TB SSD/MX450/15.6\\\"\",\n          \"Thomson Neo White Intel Celeron N4020/4GB/64GB eMMC/14.1\\\"\",\n          \"MSI Modern 14 B11SB-420XES Intel Core i7-1165G7/32GB/1TB SSD/MX450/14\\\"\"\n        ],\n        \"semantic_type\": \"\",\n        \"description\": \"\"\n      }\n    },\n    {\n      \"column\": \"status\",\n      \"properties\": {\n        \"dtype\": \"category\",\n        \"num_unique_values\": 2,\n        \"samples\": [\n          \"Refurbished\",\n          \"New\"\n        ],\n        \"semantic_type\": \"\",\n        \"description\": \"\"\n      }\n    },\n    {\n      \"column\": \"brand\",\n      \"properties\": {\n        \"dtype\": \"category\",\n        \"num_unique_values\": 27,\n        \"samples\": [\n          \"Razer\",\n          \"PcCom\"\n        ],\n        \"semantic_type\": \"\",\n        \"description\": \"\"\n      }\n    },\n    {\n      \"column\": \"model\",\n      \"properties\": {\n        \"dtype\": \"category\",\n        \"num_unique_values\": 121,\n        \"samples\": [\n          \"Aero\",\n          \"Erazer\"\n        ],\n        \"semantic_type\": \"\",\n        \"description\": \"\"\n      }\n    },\n    {\n      \"column\": \"cpu\",\n      \"properties\": {\n        \"dtype\": \"category\",\n        \"num_unique_values\": 28,\n        \"samples\": [\n          \"Apple M2\",\n          \"AMD 3015Ce\"\n        ],\n        \"semantic_type\": \"\",\n        \"description\": \"\"\n      }\n    },\n    {\n      \"column\": \"ram\",\n      \"properties\": {\n        \"dtype\": \"number\",\n        \"std\": 9,\n        \"min\": 4,\n        \"max\": 128,\n        \"num_unique_values\": 9,\n        \"samples\": [\n          6,\n          16\n        ],\n        \"semantic_type\": \"\",\n        \"description\": \"\"\n      }\n    },\n    {\n      \"column\": \"storage\",\n      \"properties\": {\n        \"dtype\": \"number\",\n        \"std\": 361,\n        \"min\": 0,\n        \"max\": 4000,\n        \"num_unique_values\": 12,\n        \"samples\": [\n          3000,\n          4000\n        ],\n        \"semantic_type\": \"\",\n        \"description\": \"\"\n      }\n    },\n    {\n      \"column\": \"storage_type\",\n      \"properties\": {\n        \"dtype\": \"category\",\n        \"num_unique_values\": 2,\n        \"samples\": [\n          \"eMMC\",\n          \"SSD\"\n        ],\n        \"semantic_type\": \"\",\n        \"description\": \"\"\n      }\n    },\n    {\n      \"column\": \"gpu\",\n      \"properties\": {\n        \"dtype\": \"category\",\n        \"num_unique_values\": 44,\n        \"samples\": [\n          \"RTX 2080\",\n          \"Radeon Pro 5500M\"\n        ],\n        \"semantic_type\": \"\",\n        \"description\": \"\"\n      }\n    },\n    {\n      \"column\": \"screen\",\n      \"properties\": {\n        \"dtype\": \"number\",\n        \"std\": 1.203328758328451,\n        \"min\": 10.1,\n        \"max\": 18.0,\n        \"num_unique_values\": 29,\n        \"samples\": [\n          12.0,\n          16.2\n        ],\n        \"semantic_type\": \"\",\n        \"description\": \"\"\n      }\n    },\n    {\n      \"column\": \"touch\",\n      \"properties\": {\n        \"dtype\": \"category\",\n        \"num_unique_values\": 2,\n        \"samples\": [\n          \"Yes\",\n          \"No\"\n        ],\n        \"semantic_type\": \"\",\n        \"description\": \"\"\n      }\n    },\n    {\n      \"column\": \"final_price\",\n      \"properties\": {\n        \"dtype\": \"number\",\n        \"std\": 911.4754170328499,\n        \"min\": 201.05,\n        \"max\": 7150.47,\n        \"num_unique_values\": 1440,\n        \"samples\": [\n          3599.0,\n          1799.9\n        ],\n        \"semantic_type\": \"\",\n        \"description\": \"\"\n      }\n    }\n  ]\n}"
            }
          },
          "metadata": {},
          "execution_count": 5
        }
      ]
    },
    {
      "cell_type": "markdown",
      "source": [
        "## Exploratory Data Analysis"
      ],
      "metadata": {
        "id": "BHRG7rRB6ael"
      }
    },
    {
      "cell_type": "code",
      "source": [
        "df = df[['ram', 'storage', 'screen', 'final_price']]"
      ],
      "metadata": {
        "id": "iELbru9I5QDd"
      },
      "execution_count": 6,
      "outputs": []
    },
    {
      "cell_type": "code",
      "source": [
        "plt.figure(figsize=(6, 4))\n",
        "\n",
        "sns.histplot(df.final_price, bins=40, color='blue', alpha=1)\n",
        "plt.ylabel('Frequency')\n",
        "plt.xlabel('Price')\n",
        "plt.title('Distribution of prices')\n",
        "\n",
        "plt.show()"
      ],
      "metadata": {
        "colab": {
          "base_uri": "https://localhost:8080/",
          "height": 410
        },
        "id": "ErSVhYUp6ifR",
        "outputId": "b84a305d-c350-4421-a17f-b00767a70b9a"
      },
      "execution_count": 7,
      "outputs": [
        {
          "output_type": "display_data",
          "data": {
            "text/plain": [
              "<Figure size 600x400 with 1 Axes>"
            ],
            "image/png": "[encoded data removed]"
          },
          "metadata": {}
        }
      ]
    },
    {
      "cell_type": "markdown",
      "source": [
        "Look at the final_price variable. Does it have a long tail?\n",
        "\n",
        "The final_price has positive skew (that is skewed right). It is normal distribution with long tail"
      ],
      "metadata": {
        "id": "ezNgoyPA7rru"
      }
    },
    {
      "cell_type": "markdown",
      "source": [
        "### Question 1: There's one column with missing values. What is it?"
      ],
      "metadata": {
        "id": "eHFV_PlGBYP6"
      }
    },
    {
      "cell_type": "code",
      "source": [
        "df.isnull().sum()"
      ],
      "metadata": {
        "colab": {
          "base_uri": "https://localhost:8080/",
          "height": 207
        },
        "id": "NaK6B-NT66cF",
        "outputId": "def5f3d0-6f9f-4813-a0f6-bf05d7446329"
      },
      "execution_count": 8,
      "outputs": [
        {
          "output_type": "execute_result",
          "data": {
            "text/plain": [
              "ram            0\n",
              "storage        0\n",
              "screen         4\n",
              "final_price    0\n",
              "dtype: int64"
            ],
            "text/html": [
              "<div>\n",
              "<style scoped>\n",
              "    .dataframe tbody tr th:only-of-type {\n",
              "        vertical-align: middle;\n",
              "    }\n",
              "\n",
              "    .dataframe tbody tr th {\n",
              "        vertical-align: top;\n",
              "    }\n",
              "\n",
              "    .dataframe thead th {\n",
              "        text-align: right;\n",
              "    }\n",
              "</style>\n",
              "<table border=\"1\" class=\"dataframe\">\n",
              "  <thead>\n",
              "    <tr style=\"text-align: right;\">\n",
              "      <th></th>\n",
              "      <th>0</th>\n",
              "    </tr>\n",
              "  </thead>\n",
              "  <tbody>\n",
              "    <tr>\n",
              "      <th>ram</th>\n",
              "      <td>0</td>\n",
              "    </tr>\n",
              "    <tr>\n",
              "      <th>storage</th>\n",
              "      <td>0</td>\n",
              "    </tr>\n",
              "    <tr>\n",
              "      <th>screen</th>\n",
              "      <td>4</td>\n",
              "    </tr>\n",
              "    <tr>\n",
              "      <th>final_price</th>\n",
              "      <td>0</td>\n",
              "    </tr>\n",
              "  </tbody>\n",
              "</table>\n",
              "</div><br><label><b>dtype:</b> int64</label>"
            ]
          },
          "metadata": {},
          "execution_count": 8
        }
      ]
    },
    {
      "cell_type": "markdown",
      "source": [
        "### Question 2 What's the median (50% percentile) for variable 'ram'?"
      ],
      "metadata": {
        "id": "g8F2ZFlEBeUh"
      }
    },
    {
      "cell_type": "code",
      "source": [
        "ram_median = df.ram.median()\n",
        "ram_median"
      ],
      "metadata": {
        "colab": {
          "base_uri": "https://localhost:8080/"
        },
        "id": "LVVzt0Ug81gZ",
        "outputId": "faa34b67-9927-4636-8bed-9f2de2cabea4"
      },
      "execution_count": 9,
      "outputs": [
        {
          "output_type": "execute_result",
          "data": {
            "text/plain": [
              "16.0"
            ]
          },
          "metadata": {},
          "execution_count": 9
        }
      ]
    },
    {
      "cell_type": "markdown",
      "source": [
        "## Prepare and split the dataset\n",
        "\n",
        "- Shuffle the dataset (the filtered one you created above), use seed 42.\n",
        "- Split your data in train/val/test sets, with 60%/20%/20% distribution."
      ],
      "metadata": {
        "id": "_HMLCn6t9mFy"
      }
    },
    {
      "cell_type": "code",
      "source": [
        "def shuffle_and_split(df, seed):\n",
        "    np.random.seed(seed)\n",
        "    n = len(df)\n",
        "    n_val = int(0.2 * n)\n",
        "    n_test = int(0.2 * n)\n",
        "    n_train = n - (n_val + n_test)\n",
        "\n",
        "    idx = np.arange(n)\n",
        "    np.random.shuffle(idx)\n",
        "\n",
        "    df_shuffled = df.iloc[idx]\n",
        "\n",
        "    df_train = df_shuffled.iloc[:n_train].copy()\n",
        "    df_val = df_shuffled.iloc[n_train:n_train + n_val].copy()\n",
        "    df_test = df_shuffled.iloc[n_train + n_val:].copy()\n",
        "\n",
        "    return df_train, df_val, df_test"
      ],
      "metadata": {
        "id": "6jQLB_LfjCY4"
      },
      "execution_count": 10,
      "outputs": []
    },
    {
      "cell_type": "code",
      "source": [
        "# Use the shuffle_and_split function with seed 42\n",
        "df_train, df_val, df_test = shuffle_and_split(df, seed=42)\n",
        "\n",
        "len(df_train), len(df_val), len(df_test)"
      ],
      "metadata": {
        "colab": {
          "base_uri": "https://localhost:8080/"
        },
        "id": "BL7qAfl9jiW9",
        "outputId": "eee247bf-6923-4112-ee30-1c72862d9d83"
      },
      "execution_count": 11,
      "outputs": [
        {
          "output_type": "execute_result",
          "data": {
            "text/plain": [
              "(1296, 432, 432)"
            ]
          },
          "metadata": {},
          "execution_count": 11
        }
      ]
    },
    {
      "cell_type": "code",
      "source": [
        "df_train = df_train.reset_index(drop=True)\n",
        "df_val = df_val.reset_index(drop=True)\n",
        "df_test = df_test.reset_index(drop=True)"
      ],
      "metadata": {
        "id": "XVv5b3hACWhW"
      },
      "execution_count": 12,
      "outputs": []
    },
    {
      "cell_type": "code",
      "source": [
        "y_train = np.log1p(df_train.final_price.values)\n",
        "y_val = np.log1p(df_val.final_price.values)\n",
        "y_test = np.log1p(df_test.final_price.values)"
      ],
      "metadata": {
        "id": "Ge1Bo40HCZqe"
      },
      "execution_count": 13,
      "outputs": []
    },
    {
      "cell_type": "code",
      "source": [
        "del df_train['final_price']\n",
        "del df_val['final_price']\n",
        "del df_test['final_price']"
      ],
      "metadata": {
        "id": "hsYIIPSTCijW"
      },
      "execution_count": 14,
      "outputs": []
    },
    {
      "cell_type": "code",
      "source": [
        "df_train"
      ],
      "metadata": {
        "colab": {
          "base_uri": "https://localhost:8080/",
          "height": 419
        },
        "id": "FHBZCb_ZCsoZ",
        "outputId": "8035ae36-688c-4b0b-f048-bb70a1ba4623"
      },
      "execution_count": 15,
      "outputs": [
        {
          "output_type": "execute_result",
          "data": {
            "text/plain": [
              "      ram  storage  screen\n",
              "0      32     1000    15.6\n",
              "1       4       64    14.1\n",
              "2      32     1000    14.0\n",
              "3      16      512    13.3\n",
              "4      32     1000    16.0\n",
              "...   ...      ...     ...\n",
              "1291    8      256    14.0\n",
              "1292   32     1000    16.0\n",
              "1293   16      512    15.6\n",
              "1294   16      512    14.0\n",
              "1295   16      512    14.0\n",
              "\n",
              "[1296 rows x 3 columns]"
            ],
            "text/html": [
              "\n",
              "  <div id=\"df-4456e07c-b42b-4ccf-a3dd-fcdb52322452\" class=\"colab-df-container\">\n",
              "    <div>\n",
              "<style scoped>\n",
              "    .dataframe tbody tr th:only-of-type {\n",
              "        vertical-align: middle;\n",
              "    }\n",
              "\n",
              "    .dataframe tbody tr th {\n",
              "        vertical-align: top;\n",
              "    }\n",
              "\n",
              "    .dataframe thead th {\n",
              "        text-align: right;\n",
              "    }\n",
              "</style>\n",
              "<table border=\"1\" class=\"dataframe\">\n",
              "  <thead>\n",
              "    <tr style=\"text-align: right;\">\n",
              "      <th></th>\n",
              "      <th>ram</th>\n",
              "      <th>storage</th>\n",
              "      <th>screen</th>\n",
              "    </tr>\n",
              "  </thead>\n",
              "  <tbody>\n",
              "    <tr>\n",
              "      <th>0</th>\n",
              "      <td>32</td>\n",
              "      <td>1000</td>\n",
              "      <td>15.6</td>\n",
              "    </tr>\n",
              "    <tr>\n",
              "      <th>1</th>\n",
              "      <td>4</td>\n",
              "      <td>64</td>\n",
              "      <td>14.1</td>\n",
              "    </tr>\n",
              "    <tr>\n",
              "      <th>2</th>\n",
              "      <td>32</td>\n",
              "      <td>1000</td>\n",
              "      <td>14.0</td>\n",
              "    </tr>\n",
              "    <tr>\n",
              "      <th>3</th>\n",
              "      <td>16</td>\n",
              "      <td>512</td>\n",
              "      <td>13.3</td>\n",
              "    </tr>\n",
              "    <tr>\n",
              "      <th>4</th>\n",
              "      <td>32</td>\n",
              "      <td>1000</td>\n",
              "      <td>16.0</td>\n",
              "    </tr>\n",
              "    <tr>\n",
              "      <th>...</th>\n",
              "      <td>...</td>\n",
              "      <td>...</td>\n",
              "      <td>...</td>\n",
              "    </tr>\n",
              "    <tr>\n",
              "      <th>1291</th>\n",
              "      <td>8</td>\n",
              "      <td>256</td>\n",
              "      <td>14.0</td>\n",
              "    </tr>\n",
              "    <tr>\n",
              "      <th>1292</th>\n",
              "      <td>32</td>\n",
              "      <td>1000</td>\n",
              "      <td>16.0</td>\n",
              "    </tr>\n",
              "    <tr>\n",
              "      <th>1293</th>\n",
              "      <td>16</td>\n",
              "      <td>512</td>\n",
              "      <td>15.6</td>\n",
              "    </tr>\n",
              "    <tr>\n",
              "      <th>1294</th>\n",
              "      <td>16</td>\n",
              "      <td>512</td>\n",
              "      <td>14.0</td>\n",
              "    </tr>\n",
              "    <tr>\n",
              "      <th>1295</th>\n",
              "      <td>16</td>\n",
              "      <td>512</td>\n",
              "      <td>14.0</td>\n",
              "    </tr>\n",
              "  </tbody>\n",
              "</table>\n",
              "<p>1296 rows × 3 columns</p>\n",
              "</div>\n",
              "    <div class=\"colab-df-buttons\">\n",
              "\n",
              "  <div class=\"colab-df-container\">\n",
              "    <button class=\"colab-df-convert\" onclick=\"convertToInteractive('df-4456e07c-b42b-4ccf-a3dd-fcdb52322452')\"\n",
              "            title=\"Convert this dataframe to an interactive table.\"\n",
              "            style=\"display:none;\">\n",
              "\n",
              "  <svg xmlns=\"http://www.w3.org/2000/svg\" height=\"24px\" viewBox=\"0 -960 960 960\">\n",
              "    <path d=\"M120-120v-720h720v720H120Zm60-500h600v-160H180v160Zm220 220h160v-160H400v160Zm0 220h160v-160H400v160ZM180-400h160v-160H180v160Zm440 0h160v-160H620v160ZM180-180h160v-160H180v160Zm440 0h160v-160H620v160Z\"/>\n",
              "  </svg>\n",
              "    </button>\n",
              "\n",
              "  <style>\n",
              "    .colab-df-container {\n",
              "      display:flex;\n",
              "      gap: 12px;\n",
              "    }\n",
              "\n",
              "    .colab-df-convert {\n",
              "      background-color: #E8F0FE;\n",
              "      border: none;\n",
              "      border-radius: 50%;\n",
              "      cursor: pointer;\n",
              "      display: none;\n",
              "      fill: #1967D2;\n",
              "      height: 32px;\n",
              "      padding: 0 0 0 0;\n",
              "      width: 32px;\n",
              "    }\n",
              "\n",
              "    .colab-df-convert:hover {\n",
              "      background-color: #E2EBFA;\n",
              "      box-shadow: 0px 1px 2px rgba(60, 64, 67, 0.3), 0px 1px 3px 1px rgba(60, 64, 67, 0.15);\n",
              "      fill: #174EA6;\n",
              "    }\n",
              "\n",
              "    .colab-df-buttons div {\n",
              "      margin-bottom: 4px;\n",
              "    }\n",
              "\n",
              "    [theme=dark] .colab-df-convert {\n",
              "      background-color: #3B4455;\n",
              "      fill: #D2E3FC;\n",
              "    }\n",
              "\n",
              "    [theme=dark] .colab-df-convert:hover {\n",
              "      background-color: #434B5C;\n",
              "      box-shadow: 0px 1px 3px 1px rgba(0, 0, 0, 0.15);\n",
              "      filter: drop-shadow(0px 1px 2px rgba(0, 0, 0, 0.3));\n",
              "      fill: #FFFFFF;\n",
              "    }\n",
              "  </style>\n",
              "\n",
              "    <script>\n",
              "      const buttonEl =\n",
              "        document.querySelector('#df-4456e07c-b42b-4ccf-a3dd-fcdb52322452 button.colab-df-convert');\n",
              "      buttonEl.style.display =\n",
              "        google.colab.kernel.accessAllowed ? 'block' : 'none';\n",
              "\n",
              "      async function convertToInteractive(key) {\n",
              "        const element = document.querySelector('#df-4456e07c-b42b-4ccf-a3dd-fcdb52322452');\n",
              "        const dataTable =\n",
              "          await google.colab.kernel.invokeFunction('convertToInteractive',\n",
              "                                                    [key], {});\n",
              "        if (!dataTable) return;\n",
              "\n",
              "        const docLinkHtml = 'Like what you see? Visit the ' +\n",
              "          '<a target=\"_blank\" href=https://colab.research.google.com/notebooks/data_table.ipynb>data table notebook</a>'\n",
              "          + ' to learn more about interactive tables.';\n",
              "        element.innerHTML = '';\n",
              "        dataTable['output_type'] = 'display_data';\n",
              "        await google.colab.output.renderOutput(dataTable, element);\n",
              "        const docLink = document.createElement('div');\n",
              "        docLink.innerHTML = docLinkHtml;\n",
              "        element.appendChild(docLink);\n",
              "      }\n",
              "    </script>\n",
              "  </div>\n",
              "\n",
              "\n",
              "<div id=\"df-1962df89-aa39-4797-9944-bfd108b8a435\">\n",
              "  <button class=\"colab-df-quickchart\" onclick=\"quickchart('df-1962df89-aa39-4797-9944-bfd108b8a435')\"\n",
              "            title=\"Suggest charts\"\n",
              "            style=\"display:none;\">\n",
              "\n",
              "<svg xmlns=\"http://www.w3.org/2000/svg\" height=\"24px\"viewBox=\"0 0 24 24\"\n",
              "     width=\"24px\">\n",
              "    <g>\n",
              "        <path d=\"M19 3H5c-1.1 0-2 .9-2 2v14c0 1.1.9 2 2 2h14c1.1 0 2-.9 2-2V5c0-1.1-.9-2-2-2zM9 17H7v-7h2v7zm4 0h-2V7h2v10zm4 0h-2v-4h2v4z\"/>\n",
              "    </g>\n",
              "</svg>\n",
              "  </button>\n",
              "\n",
              "<style>\n",
              "  .colab-df-quickchart {\n",
              "      --bg-color: #E8F0FE;\n",
              "      --fill-color: #1967D2;\n",
              "      --hover-bg-color: #E2EBFA;\n",
              "      --hover-fill-color: #174EA6;\n",
              "      --disabled-fill-color: #AAA;\n",
              "      --disabled-bg-color: #DDD;\n",
              "  }\n",
              "\n",
              "  [theme=dark] .colab-df-quickchart {\n",
              "      --bg-color: #3B4455;\n",
              "      --fill-color: #D2E3FC;\n",
              "      --hover-bg-color: #434B5C;\n",
              "      --hover-fill-color: #FFFFFF;\n",
              "      --disabled-bg-color: #3B4455;\n",
              "      --disabled-fill-color: #666;\n",
              "  }\n",
              "\n",
              "  .colab-df-quickchart {\n",
              "    background-color: var(--bg-color);\n",
              "    border: none;\n",
              "    border-radius: 50%;\n",
              "    cursor: pointer;\n",
              "    display: none;\n",
              "    fill: var(--fill-color);\n",
              "    height: 32px;\n",
              "    padding: 0;\n",
              "    width: 32px;\n",
              "  }\n",
              "\n",
              "  .colab-df-quickchart:hover {\n",
              "    background-color: var(--hover-bg-color);\n",
              "    box-shadow: 0 1px 2px rgba(60, 64, 67, 0.3), 0 1px 3px 1px rgba(60, 64, 67, 0.15);\n",
              "    fill: var(--button-hover-fill-color);\n",
              "  }\n",
              "\n",
              "  .colab-df-quickchart-complete:disabled,\n",
              "  .colab-df-quickchart-complete:disabled:hover {\n",
              "    background-color: var(--disabled-bg-color);\n",
              "    fill: var(--disabled-fill-color);\n",
              "    box-shadow: none;\n",
              "  }\n",
              "\n",
              "  .colab-df-spinner {\n",
              "    border: 2px solid var(--fill-color);\n",
              "    border-color: transparent;\n",
              "    border-bottom-color: var(--fill-color);\n",
              "    animation:\n",
              "      spin 1s steps(1) infinite;\n",
              "  }\n",
              "\n",
              "  @keyframes spin {\n",
              "    0% {\n",
              "      border-color: transparent;\n",
              "      border-bottom-color: var(--fill-color);\n",
              "      border-left-color: var(--fill-color);\n",
              "    }\n",
              "    20% {\n",
              "      border-color: transparent;\n",
              "      border-left-color: var(--fill-color);\n",
              "      border-top-color: var(--fill-color);\n",
              "    }\n",
              "    30% {\n",
              "      border-color: transparent;\n",
              "      border-left-color: var(--fill-color);\n",
              "      border-top-color: var(--fill-color);\n",
              "      border-right-color: var(--fill-color);\n",
              "    }\n",
              "    40% {\n",
              "      border-color: transparent;\n",
              "      border-right-color: var(--fill-color);\n",
              "      border-top-color: var(--fill-color);\n",
              "    }\n",
              "    60% {\n",
              "      border-color: transparent;\n",
              "      border-right-color: var(--fill-color);\n",
              "    }\n",
              "    80% {\n",
              "      border-color: transparent;\n",
              "      border-right-color: var(--fill-color);\n",
              "      border-bottom-color: var(--fill-color);\n",
              "    }\n",
              "    90% {\n",
              "      border-color: transparent;\n",
              "      border-bottom-color: var(--fill-color);\n",
              "    }\n",
              "  }\n",
              "</style>\n",
              "\n",
              "  <script>\n",
              "    async function quickchart(key) {\n",
              "      const quickchartButtonEl =\n",
              "        document.querySelector('#' + key + ' button');\n",
              "      quickchartButtonEl.disabled = true;  // To prevent multiple clicks.\n",
              "      quickchartButtonEl.classList.add('colab-df-spinner');\n",
              "      try {\n",
              "        const charts = await google.colab.kernel.invokeFunction(\n",
              "            'suggestCharts', [key], {});\n",
              "      } catch (error) {\n",
              "        console.error('Error during call to suggestCharts:', error);\n",
              "      }\n",
              "      quickchartButtonEl.classList.remove('colab-df-spinner');\n",
              "      quickchartButtonEl.classList.add('colab-df-quickchart-complete');\n",
              "    }\n",
              "    (() => {\n",
              "      let quickchartButtonEl =\n",
              "        document.querySelector('#df-1962df89-aa39-4797-9944-bfd108b8a435 button');\n",
              "      quickchartButtonEl.style.display =\n",
              "        google.colab.kernel.accessAllowed ? 'block' : 'none';\n",
              "    })();\n",
              "  </script>\n",
              "</div>\n",
              "\n",
              "  <div id=\"id_346465e0-fd71-41d3-8219-cb17ce29e5cc\">\n",
              "    <style>\n",
              "      .colab-df-generate {\n",
              "        background-color: #E8F0FE;\n",
              "        border: none;\n",
              "        border-radius: 50%;\n",
              "        cursor: pointer;\n",
              "        display: none;\n",
              "        fill: #1967D2;\n",
              "        height: 32px;\n",
              "        padding: 0 0 0 0;\n",
              "        width: 32px;\n",
              "      }\n",
              "\n",
              "      .colab-df-generate:hover {\n",
              "        background-color: #E2EBFA;\n",
              "        box-shadow: 0px 1px 2px rgba(60, 64, 67, 0.3), 0px 1px 3px 1px rgba(60, 64, 67, 0.15);\n",
              "        fill: #174EA6;\n",
              "      }\n",
              "\n",
              "      [theme=dark] .colab-df-generate {\n",
              "        background-color: #3B4455;\n",
              "        fill: #D2E3FC;\n",
              "      }\n",
              "\n",
              "      [theme=dark] .colab-df-generate:hover {\n",
              "        background-color: #434B5C;\n",
              "        box-shadow: 0px 1px 3px 1px rgba(0, 0, 0, 0.15);\n",
              "        filter: drop-shadow(0px 1px 2px rgba(0, 0, 0, 0.3));\n",
              "        fill: #FFFFFF;\n",
              "      }\n",
              "    </style>\n",
              "    <button class=\"colab-df-generate\" onclick=\"generateWithVariable('df_train')\"\n",
              "            title=\"Generate code using this dataframe.\"\n",
              "            style=\"display:none;\">\n",
              "\n",
              "  <svg xmlns=\"http://www.w3.org/2000/svg\" height=\"24px\"viewBox=\"0 0 24 24\"\n",
              "       width=\"24px\">\n",
              "    <path d=\"M7,19H8.4L18.45,9,17,7.55,7,17.6ZM5,21V16.75L18.45,3.32a2,2,0,0,1,2.83,0l1.4,1.43a1.91,1.91,0,0,1,.58,1.4,1.91,1.91,0,0,1-.58,1.4L9.25,21ZM18.45,9,17,7.55Zm-12,3A5.31,5.31,0,0,0,4.9,8.1,5.31,5.31,0,0,0,1,6.5,5.31,5.31,0,0,0,4.9,4.9,5.31,5.31,0,0,0,6.5,1,5.31,5.31,0,0,0,8.1,4.9,5.31,5.31,0,0,0,12,6.5,5.46,5.46,0,0,0,6.5,12Z\"/>\n",
              "  </svg>\n",
              "    </button>\n",
              "    <script>\n",
              "      (() => {\n",
              "      const buttonEl =\n",
              "        document.querySelector('#id_346465e0-fd71-41d3-8219-cb17ce29e5cc button.colab-df-generate');\n",
              "      buttonEl.style.display =\n",
              "        google.colab.kernel.accessAllowed ? 'block' : 'none';\n",
              "\n",
              "      buttonEl.onclick = () => {\n",
              "        google.colab.notebook.generateWithVariable('df_train');\n",
              "      }\n",
              "      })();\n",
              "    </script>\n",
              "  </div>\n",
              "\n",
              "    </div>\n",
              "  </div>\n"
            ],
            "application/vnd.google.colaboratory.intrinsic+json": {
              "type": "dataframe",
              "variable_name": "df_train",
              "summary": "{\n  \"name\": \"df_train\",\n  \"rows\": 1296,\n  \"fields\": [\n    {\n      \"column\": \"ram\",\n      \"properties\": {\n        \"dtype\": \"number\",\n        \"std\": 10,\n        \"min\": 4,\n        \"max\": 128,\n        \"num_unique_values\": 9,\n        \"samples\": [\n          6,\n          4,\n          128\n        ],\n        \"semantic_type\": \"\",\n        \"description\": \"\"\n      }\n    },\n    {\n      \"column\": \"storage\",\n      \"properties\": {\n        \"dtype\": \"number\",\n        \"std\": 378,\n        \"min\": 32,\n        \"max\": 4000,\n        \"num_unique_values\": 11,\n        \"samples\": [\n          256,\n          1000,\n          4000\n        ],\n        \"semantic_type\": \"\",\n        \"description\": \"\"\n      }\n    },\n    {\n      \"column\": \"screen\",\n      \"properties\": {\n        \"dtype\": \"number\",\n        \"std\": 1.2333765064218012,\n        \"min\": 10.1,\n        \"max\": 18.0,\n        \"num_unique_values\": 28,\n        \"samples\": [\n          14.2,\n          12.5,\n          13.6\n        ],\n        \"semantic_type\": \"\",\n        \"description\": \"\"\n      }\n    }\n  ]\n}"
            }
          },
          "metadata": {},
          "execution_count": 15
        }
      ]
    },
    {
      "cell_type": "markdown",
      "source": [
        "### Question 3\n",
        "- We need to deal with missing values for the column from Q1.\n",
        "- We have two options: fill it with 0 or with the mean of this variable.\n",
        "- Try both options. For each, train a linear regression model without regularization using the code from the lessons.\n",
        "- For computing the mean, use the training only!\n",
        "- Use the validation dataset to evaluate the models and compare the RMSE of each option.\n",
        "- Round the RMSE scores to 2 decimal digits using round(score, 2)\n",
        "- Which option gives better RMSE?\n",
        "\n",
        "Options:\n",
        "\n",
        "- With 0\n",
        "- With mean\n",
        "- Both are equally good"
      ],
      "metadata": {
        "id": "e615PSQABFWi"
      }
    },
    {
      "cell_type": "markdown",
      "source": [
        "## Train Linear Regression"
      ],
      "metadata": {
        "id": "z7TtkkeOLYCC"
      }
    },
    {
      "cell_type": "code",
      "source": [
        "def train_linear_regression(X, y):\n",
        "    ones = np.ones(X.shape[0])\n",
        "    X = np.column_stack([ones, X])\n",
        "\n",
        "    XTX = X.T.dot(X)\n",
        "    XTX_inv = np.linalg.inv(XTX)\n",
        "    w_full = XTX_inv.dot(X.T).dot(y)\n",
        "\n",
        "    return w_full[0], w_full[1:]"
      ],
      "metadata": {
        "id": "0khM4Wo9Kw-k"
      },
      "execution_count": 16,
      "outputs": []
    },
    {
      "cell_type": "code",
      "source": [
        "def prepare_X(df):\n",
        "    df_num = df[base]\n",
        "    df_num = df_num.fillna(0)\n",
        "    X = df_num.values\n",
        "    return X"
      ],
      "metadata": {
        "id": "_wHseLpCk5s2"
      },
      "execution_count": 17,
      "outputs": []
    },
    {
      "cell_type": "code",
      "source": [
        "# RMSE function\n",
        "def rmse(y, y_pred):\n",
        "    se = (y - y_pred) ** 2\n",
        "    mse = se.mean()\n",
        "    return np.sqrt(mse)"
      ],
      "metadata": {
        "id": "AQcmalQolXIm"
      },
      "execution_count": 18,
      "outputs": []
    },
    {
      "cell_type": "code",
      "source": [
        "# Split the data using seed 42 for reproducibility\n",
        "df_train, df_val, df_test = shuffle_and_split(df, seed=42)\n",
        "\n",
        "# Prepare target variables\n",
        "y_train = np.log1p(df_train.final_price.values)\n",
        "y_val = np.log1p(df_val.final_price.values)\n",
        "\n",
        "# Drop 'final_price' from the train and validation datasets\n",
        "df_train = df_train.drop(columns=['final_price']).reset_index(drop=True)\n",
        "df_val = df_val.drop(columns=['final_price']).reset_index(drop=True)\n",
        "\n",
        "# Option 1: Fill missing values with 0\n",
        "df_train_zero = df_train.copy().fillna(0)\n",
        "df_val_zero = df_val.copy().fillna(0)\n",
        "\n",
        "# Define the columns to be used for training\n",
        "base = ['ram', 'storage', 'screen']\n",
        "\n",
        "# Prepare data for training and validation\n",
        "X_train_zero = prepare_X(df_train_zero)\n",
        "X_val_zero = prepare_X(df_val_zero)\n",
        "\n",
        "# Train linear regression model without regularization\n",
        "w0_zero, w_zero = train_linear_regression(X_train_zero, y_train)\n",
        "\n",
        "# Predict and calculate RMSE for validation dataset (fill missing with 0)\n",
        "y_pred_zero = w0_zero + X_val_zero.dot(w_zero)\n",
        "rmse_zero = rmse(y_val, y_pred_zero)\n",
        "rounded_rmse_zero = round(rmse_zero, 2)\n",
        "\n",
        "# Option 2: Fill missing values with the mean of training data\n",
        "mean_values = df_train.mean()\n",
        "df_train_mean = df_train.copy().fillna(mean_values)\n",
        "df_val_mean = df_val.copy().fillna(mean_values)\n",
        "\n",
        "# Prepare data for training and validation\n",
        "X_train_mean = prepare_X(df_train_mean)\n",
        "X_val_mean = prepare_X(df_val_mean)\n",
        "\n",
        "# Train linear regression model without regularization\n",
        "w0_mean, w_mean = train_linear_regression(X_train_mean, y_train)\n",
        "\n",
        "# Predict and calculate RMSE for validation dataset (fill missing with mean)\n",
        "y_pred_mean = w0_mean + X_val_mean.dot(w_mean)\n",
        "rmse_mean = rmse(y_val, y_pred_mean)\n",
        "rounded_rmse_mean = round(rmse_mean, 2)\n",
        "\n",
        "# Compare RMSE scores\n",
        "rounded_rmse_zero, rounded_rmse_mean\n"
      ],
      "metadata": {
        "colab": {
          "base_uri": "https://localhost:8080/"
        },
        "id": "fndiOOg3ky3I",
        "outputId": "ed9ab51f-eae5-48bd-97b1-90f565d27350"
      },
      "execution_count": 19,
      "outputs": [
        {
          "output_type": "execute_result",
          "data": {
            "text/plain": [
              "(0.43, 0.43)"
            ]
          },
          "metadata": {},
          "execution_count": 19
        }
      ]
    },
    {
      "cell_type": "code",
      "source": [
        "sns.histplot(y_pred_mean, color='red', alpha=0.5, bins=50)\n",
        "sns.histplot(y_train, color='blue', alpha=0.5, bins=50)"
      ],
      "metadata": {
        "colab": {
          "base_uri": "https://localhost:8080/",
          "height": 447
        },
        "id": "GawrX0RfMJEe",
        "outputId": "d13bd5cd-1a4e-4569-b5cb-2d2b4479acba"
      },
      "execution_count": 20,
      "outputs": [
        {
          "output_type": "execute_result",
          "data": {
            "text/plain": [
              "<Axes: ylabel='Count'>"
            ]
          },
          "metadata": {},
          "execution_count": 20
        },
        {
          "output_type": "display_data",
          "data": {
            "text/plain": [
              "<Figure size 640x480 with 1 Axes>"
            ],
            "image/png": "[encoded data removed]"
          },
          "metadata": {}
        }
      ]
    },
    {
      "cell_type": "code",
      "source": [
        "sns.histplot(y_pred_zero, color='red', alpha=0.5, bins=50)\n",
        "sns.histplot(y_train, color='blue', alpha=0.5, bins=50)"
      ],
      "metadata": {
        "colab": {
          "base_uri": "https://localhost:8080/",
          "height": 447
        },
        "id": "ugIKJOifmIeT",
        "outputId": "5a40a06d-5e6a-4beb-c887-da4c41e2ed99"
      },
      "execution_count": 21,
      "outputs": [
        {
          "output_type": "execute_result",
          "data": {
            "text/plain": [
              "<Axes: ylabel='Count'>"
            ]
          },
          "metadata": {},
          "execution_count": 21
        },
        {
          "output_type": "display_data",
          "data": {
            "text/plain": [
              "<Figure size 640x480 with 1 Axes>"
            ],
            "image/png": "[encoded data removed]"
          },
          "metadata": {}
        }
      ]
    },
    {
      "cell_type": "markdown",
      "source": [
        "### Question 4\n",
        "- Now let's train a regularized linear regression.\n",
        "- For this question, fill the NAs with 0.\n",
        "- Try different values of r from this list: [0, 0.01, 0.1, 1, 5, 10, 100].\n",
        "- Use RMSE to evaluate the model on the validation dataset.\n",
        "- Round the RMSE scores to 2 decimal digits.\n",
        "- Which r gives the best RMSE?\n",
        "\n",
        "If there are multiple options, select the smallest r.\n",
        "\n",
        "Options:\n",
        "\n",
        "- 0\n",
        "- 0.01\n",
        "- 1\n",
        "- 10\n",
        "- 100"
      ],
      "metadata": {
        "id": "CHcpTHGXTVpI"
      }
    },
    {
      "cell_type": "code",
      "source": [
        "# Regularization\n",
        "df_train_zero = df_train.copy().fillna(0)\n",
        "\n",
        "def train_linear_regression_reg(X, y, r=0.001):\n",
        "    ones = np.ones(X.shape[0])\n",
        "    X = np.column_stack([ones, X])\n",
        "\n",
        "    XTX = X.T.dot(X)\n",
        "    XTX = XTX + r * np.eye(XTX.shape[0])\n",
        "\n",
        "    XTX_inv = np.linalg.inv(XTX)\n",
        "    w_full = XTX_inv.dot(X.T).dot(y)\n",
        "\n",
        "    return w_full[0], w_full[1:]"
      ],
      "metadata": {
        "id": "LhrZ5BJYQDWW"
      },
      "execution_count": 22,
      "outputs": []
    },
    {
      "cell_type": "code",
      "source": [
        "# Tuning the model\n",
        "\n",
        "for r in [0.0, 0.01, 0.1, 1, 5, 10, 100]:\n",
        "    X_train = prepare_X(df_train_zero)\n",
        "    w0, w = train_linear_regression_reg(X_train, y_train, r=r)\n",
        "\n",
        "    X_val = prepare_X(df_val)\n",
        "    y_pred = w0 + X_val.dot(w)\n",
        "    score = rmse(y_val, y_pred)\n",
        "    print(r, score, score.round(2))"
      ],
      "metadata": {
        "colab": {
          "base_uri": "https://localhost:8080/"
        },
        "id": "byyJcqPyU9c4",
        "outputId": "ff77b8f4-7181-4052-9ebb-2194c9cb090e"
      },
      "execution_count": 23,
      "outputs": [
        {
          "output_type": "stream",
          "name": "stdout",
          "text": [
            "0.0 0.4288635315474416 0.43\n",
            "0.01 0.4288516360534088 0.43\n",
            "0.1 0.42877560097076456 0.43\n",
            "1 0.4305932989743414 0.43\n",
            "5 0.4632095257580652 0.46\n",
            "10 0.507565776923692 0.51\n",
            "100 0.673502606172582 0.67\n"
          ]
        }
      ]
    },
    {
      "cell_type": "markdown",
      "source": [
        "### Question 5\n",
        "- We used seed 42 for splitting the data. Let's find out how selecting the seed influences our score.\n",
        "- Try different seed values: [0, 1, 2, 3, 4, 5, 6, 7, 8, 9].\n",
        "- For each seed, do the train/validation/test split with 60%/20%/20% distribution.\n",
        "- Fill the missing values with 0 and train a model without regularization.\n",
        "- For each seed, evaluate the model on the validation dataset and collect the RMSE scores.\n",
        "- What's the standard deviation of all the scores? To compute the standard deviation, use np.std.\n",
        "- Round the result to 3 decimal digits (round(std, 3))\n",
        "\n",
        "What's the value of std?\n",
        "\n",
        "- 19.176\n",
        "- 29.176\n",
        "- 39.176\n",
        "- 49.176\n",
        "\n",
        "Note: Standard deviation shows how different the values are. If it's low, then all values are approximately the same. If it's high, the values are different. If standard deviation of scores is low, then our model is stable."
      ],
      "metadata": {
        "id": "8Ild2ROoXP1O"
      }
    },
    {
      "cell_type": "code",
      "source": [
        "seeds = list(range(10))\n",
        "rmse_scores = []\n",
        "\n",
        "for seed in seeds:\n",
        "    # Split data using the current seed\n",
        "    df_train, df_val, df_test = shuffle_and_split(df, seed)\n",
        "\n",
        "    # Reset index and prepare target variables\n",
        "    y_train = np.log1p(df_train.final_price.values)\n",
        "    y_val = np.log1p(df_val.final_price.values)\n",
        "\n",
        "    # Drop 'final_price' from train and validation datasets\n",
        "    df_train = df_train.drop(columns=['final_price']).reset_index(drop=True)\n",
        "    df_val = df_val.drop(columns=['final_price']).reset_index(drop=True)\n",
        "\n",
        "    # Prepare training and validation data\n",
        "    X_train = prepare_X(df_train)\n",
        "    X_val = prepare_X(df_val)\n",
        "\n",
        "    # Train the model without regularization\n",
        "    w0, w = train_linear_regression(X_train, y_train)\n",
        "\n",
        "    # Predict and calculate RMSE\n",
        "    y_pred = w0 + X_val.dot(w)\n",
        "    score = rmse(y_val, y_pred)\n",
        "    rmse_scores.append(score)\n",
        "\n",
        "# Calculate standard deviation of RMSE scores\n",
        "std_rmse = np.std(rmse_scores)\n",
        "rounded_std_rmse = round(std_rmse, 3)\n",
        "rounded_std_rmse"
      ],
      "metadata": {
        "colab": {
          "base_uri": "https://localhost:8080/"
        },
        "id": "xUjm9d36XFYU",
        "outputId": "005331f2-739e-407c-ee83-26c7bfcd0e3d"
      },
      "execution_count": 33,
      "outputs": [
        {
          "output_type": "execute_result",
          "data": {
            "text/plain": [
              "0.014"
            ]
          },
          "metadata": {},
          "execution_count": 33
        }
      ]
    },
    {
      "cell_type": "code",
      "source": [
        "np.expm1(0.014)"
      ],
      "metadata": {
        "id": "jOngMibLqGd2",
        "outputId": "d1c1b08c-30a5-4412-ee54-9d5ea2547ba8",
        "colab": {
          "base_uri": "https://localhost:8080/"
        }
      },
      "execution_count": 29,
      "outputs": [
        {
          "output_type": "execute_result",
          "data": {
            "text/plain": [
              "0.014098458938492346"
            ]
          },
          "metadata": {},
          "execution_count": 29
        }
      ]
    },
    {
      "cell_type": "markdown",
      "source": [
        "### Question 6\n",
        "- Split the dataset like previously, use seed 9.\n",
        "- Combine train and validation datasets.\n",
        "- Fill the missing values with 0 and train a model with r=0.001.\n",
        "- What's the RMSE on the test dataset?\n",
        "\n",
        "Options:\n",
        "\n",
        "- 598.60\n",
        "- 608.60\n",
        "- 618.60\n",
        "- 628.60"
      ],
      "metadata": {
        "id": "_vkzG0YIo1gZ"
      }
    },
    {
      "cell_type": "code",
      "source": [
        "# Split the data using seed 9\n",
        "df_train, df_val, df_test = shuffle_and_split(df, seed=9)\n",
        "\n",
        "# Combine train and validation datasets\n",
        "df_full_train = pd.concat([df_train, df_val]).reset_index(drop=True)\n",
        "\n",
        "# Prepare target variables\n",
        "y_train = np.log1p(df_full_train.final_price.values)\n",
        "y_test = np.log1p(df_test.final_price.values)\n",
        "\n",
        "# Drop 'final_price' from the combined train and test datasets\n",
        "df_full_train = df_full_train.drop(columns=['final_price']).reset_index(drop=True)\n",
        "df_test = df_test.drop(columns=['final_price']).reset_index(drop=True)\n",
        "\n",
        "# Fill missing values with 0\n",
        "df_full_train_zero = df_full_train.fillna(0)\n",
        "df_test_zero = df_test.fillna(0)\n",
        "\n",
        "# Prepare training and test data\n",
        "X_full_train = prepare_X(df_full_train_zero)\n",
        "X_test = prepare_X(df_test_zero)\n",
        "\n",
        "# Train linear regression model with regularization (r=0.001)\n",
        "w0, w = train_linear_regression_reg(X_full_train, y_train, r=0.001)\n",
        "\n",
        "# Predict on the test dataset\n",
        "y_pred = w0 + X_test.dot(w)\n",
        "\n",
        "# Calculate RMSE for the test dataset\n",
        "score = rmse(y_test, y_pred)\n",
        "\n",
        "# Convert the RMSE back from log scale to original scale\n",
        "rmse_original_scale = np.expm1(score)\n",
        "rounded_rmse_original_scale = round(rmse_original_scale, 2)\n",
        "\n",
        "rounded_rmse_original_scale\n"
      ],
      "metadata": {
        "colab": {
          "base_uri": "https://localhost:8080/"
        },
        "id": "oKIgM2zEbdVz",
        "outputId": "5953d71c-010f-4710-8b57-b1ed6f6076cb"
      },
      "execution_count": 32,
      "outputs": [
        {
          "output_type": "execute_result",
          "data": {
            "text/plain": [
              "0.58"
            ]
          },
          "metadata": {},
          "execution_count": 32
        }
      ]
    },
    {
      "cell_type": "code",
      "source": [],
      "metadata": {
        "id": "hASsWBN2rWP8"
      },
      "execution_count": 25,
      "outputs": []
    }
  ]
}