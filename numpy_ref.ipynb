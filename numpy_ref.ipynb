{
  "nbformat": 4,
  "nbformat_minor": 0,
  "metadata": {
    "colab": {
      "provenance": [],
      "authorship_tag": "ABX9TyNHLcDn1xPhLD2uwiUuSlmz",
      "include_colab_link": true
    },
    "kernelspec": {
      "name": "python3",
      "display_name": "Python 3"
    },
    "language_info": {
      "name": "python"
    }
  },
  "cells": [
    {
      "cell_type": "markdown",
      "metadata": {
        "id": "view-in-github",
        "colab_type": "text"
      },
      "source": [
        "<a href=\"https://colab.research.google.com/github/OG-Data-Ops/MLOps/blob/main/numpy_ref.ipynb\" target=\"_parent\"><img src=\"https://colab.research.google.com/assets/colab-badge.svg\" alt=\"Open In Colab\"/></a>"
      ]
    },
    {
      "cell_type": "markdown",
      "source": [
        "# Machine Learning Zoomcamp\n",
        "\n",
        "\n",
        "## 1.7 Introduction to NumPy\n",
        "\n",
        "\n",
        "Plan:\n",
        "\n",
        "* Creating arrays\n",
        "* Multi-dimensional arrays\n",
        "* Randomly generated arrays\n",
        "* Element-wise operations\n",
        "    * Comparison operations\n",
        "    * Logical operations\n",
        "* Summarizing operations"
      ],
      "metadata": {
        "id": "LINwdi1oOQ6d"
      }
    },
    {
      "cell_type": "code",
      "source": [
        "import numpy as np\n",
        "np"
      ],
      "metadata": {
        "colab": {
          "base_uri": "https://localhost:8080/"
        },
        "id": "kvOO3EEsO8Ex",
        "outputId": "9feb95c8-7113-42de-b361-d76cb919a2db"
      },
      "execution_count": 4,
      "outputs": [
        {
          "output_type": "execute_result",
          "data": {
            "text/plain": [
              "<module 'numpy' from '/usr/local/lib/python3.10/dist-packages/numpy/__init__.py'>"
            ]
          },
          "metadata": {},
          "execution_count": 4
        }
      ]
    },
    {
      "cell_type": "markdown",
      "source": [
        "## Creating arrays"
      ],
      "metadata": {
        "id": "YxGaVuyiPBV8"
      }
    },
    {
      "cell_type": "code",
      "source": [
        "np.zeros(10)"
      ],
      "metadata": {
        "colab": {
          "base_uri": "https://localhost:8080/"
        },
        "id": "ac8ECquAPEzG",
        "outputId": "a9d6a4c3-33d4-4e1d-9be5-dc74e84f707f"
      },
      "execution_count": 5,
      "outputs": [
        {
          "output_type": "execute_result",
          "data": {
            "text/plain": [
              "array([0., 0., 0., 0., 0., 0., 0., 0., 0., 0.])"
            ]
          },
          "metadata": {},
          "execution_count": 5
        }
      ]
    },
    {
      "cell_type": "code",
      "source": [
        "np.ones(10)"
      ],
      "metadata": {
        "colab": {
          "base_uri": "https://localhost:8080/"
        },
        "id": "R1oQqNIFPn-S",
        "outputId": "2ba6c70a-f640-4b3d-d6ea-c006a024e5b4"
      },
      "execution_count": 7,
      "outputs": [
        {
          "output_type": "execute_result",
          "data": {
            "text/plain": [
              "array([1., 1., 1., 1., 1., 1., 1., 1., 1., 1.])"
            ]
          },
          "metadata": {},
          "execution_count": 7
        }
      ]
    },
    {
      "cell_type": "code",
      "source": [
        "np.full(10, 2.5)"
      ],
      "metadata": {
        "colab": {
          "base_uri": "https://localhost:8080/"
        },
        "id": "v7BF1xv8Pn5j",
        "outputId": "a8f8f62c-3b6a-4861-b475-480e869acea9"
      },
      "execution_count": 8,
      "outputs": [
        {
          "output_type": "execute_result",
          "data": {
            "text/plain": [
              "array([2.5, 2.5, 2.5, 2.5, 2.5, 2.5, 2.5, 2.5, 2.5, 2.5])"
            ]
          },
          "metadata": {},
          "execution_count": 8
        }
      ]
    },
    {
      "cell_type": "code",
      "source": [
        "a = np.array([1, 2, 3, 5, 7, 12])\n",
        "a"
      ],
      "metadata": {
        "colab": {
          "base_uri": "https://localhost:8080/"
        },
        "id": "jRwG-agZPn1k",
        "outputId": "4d7b6178-a47d-4b88-e5b1-cf8941c095ad"
      },
      "execution_count": 9,
      "outputs": [
        {
          "output_type": "execute_result",
          "data": {
            "text/plain": [
              "array([ 1,  2,  3,  5,  7, 12])"
            ]
          },
          "metadata": {},
          "execution_count": 9
        }
      ]
    },
    {
      "cell_type": "code",
      "source": [
        "a[2] = 10\n",
        "a"
      ],
      "metadata": {
        "colab": {
          "base_uri": "https://localhost:8080/"
        },
        "id": "G_wkptEkPnxe",
        "outputId": "3dfd5d59-74cc-4baa-a508-36c69751e3da"
      },
      "execution_count": 10,
      "outputs": [
        {
          "output_type": "execute_result",
          "data": {
            "text/plain": [
              "array([ 1,  2, 10,  5,  7, 12])"
            ]
          },
          "metadata": {},
          "execution_count": 10
        }
      ]
    },
    {
      "cell_type": "code",
      "source": [
        "np.arange(3, 10)"
      ],
      "metadata": {
        "colab": {
          "base_uri": "https://localhost:8080/"
        },
        "id": "M-JlUHH8Pnmb",
        "outputId": "71834322-3062-4686-d6cf-8a1a02ecbb81"
      },
      "execution_count": 11,
      "outputs": [
        {
          "output_type": "execute_result",
          "data": {
            "text/plain": [
              "array([3, 4, 5, 6, 7, 8, 9])"
            ]
          },
          "metadata": {},
          "execution_count": 11
        }
      ]
    },
    {
      "cell_type": "code",
      "source": [
        "np.linspace(0, 100, 11)"
      ],
      "metadata": {
        "colab": {
          "base_uri": "https://localhost:8080/"
        },
        "id": "Cy59tKl_PnZ-",
        "outputId": "82906b40-4f06-45be-da85-9968dbb5b584"
      },
      "execution_count": 12,
      "outputs": [
        {
          "output_type": "execute_result",
          "data": {
            "text/plain": [
              "array([  0.,  10.,  20.,  30.,  40.,  50.,  60.,  70.,  80.,  90., 100.])"
            ]
          },
          "metadata": {},
          "execution_count": 12
        }
      ]
    },
    {
      "cell_type": "markdown",
      "source": [
        "## Multi-dimensional arrays"
      ],
      "metadata": {
        "id": "vfexQiVCP4Pi"
      }
    },
    {
      "cell_type": "code",
      "source": [
        "np.zeros((5, 2))"
      ],
      "metadata": {
        "colab": {
          "base_uri": "https://localhost:8080/"
        },
        "id": "5GYG0bSyP8dL",
        "outputId": "6a1543bf-8834-4c2e-df86-cd7dd16d74f5"
      },
      "execution_count": 13,
      "outputs": [
        {
          "output_type": "execute_result",
          "data": {
            "text/plain": [
              "array([[0., 0.],\n",
              "       [0., 0.],\n",
              "       [0., 0.],\n",
              "       [0., 0.],\n",
              "       [0., 0.]])"
            ]
          },
          "metadata": {},
          "execution_count": 13
        }
      ]
    },
    {
      "cell_type": "code",
      "source": [
        "n = np.array([\n",
        "    [1, 2, 3],\n",
        "    [4, 5, 6],\n",
        "    [7, 8, 9]\n",
        "])"
      ],
      "metadata": {
        "id": "pxjV-Xo_P8Z8"
      },
      "execution_count": 14,
      "outputs": []
    },
    {
      "cell_type": "code",
      "source": [
        "n[0, 1] = 20\n",
        "n"
      ],
      "metadata": {
        "colab": {
          "base_uri": "https://localhost:8080/"
        },
        "id": "R194K1xlP8W8",
        "outputId": "6f8e6e44-1324-4519-ab50-9eba7a167c60"
      },
      "execution_count": 15,
      "outputs": [
        {
          "output_type": "execute_result",
          "data": {
            "text/plain": [
              "array([[ 1, 20,  3],\n",
              "       [ 4,  5,  6],\n",
              "       [ 7,  8,  9]])"
            ]
          },
          "metadata": {},
          "execution_count": 15
        }
      ]
    },
    {
      "cell_type": "code",
      "source": [
        "n[2] = [1, 1, 1]\n",
        "n"
      ],
      "metadata": {
        "colab": {
          "base_uri": "https://localhost:8080/"
        },
        "id": "uGkCQdMTP8TV",
        "outputId": "93ae056f-8c73-4aae-d8c7-5cdb499f4cc7"
      },
      "execution_count": 16,
      "outputs": [
        {
          "output_type": "execute_result",
          "data": {
            "text/plain": [
              "array([[ 1, 20,  3],\n",
              "       [ 4,  5,  6],\n",
              "       [ 1,  1,  1]])"
            ]
          },
          "metadata": {},
          "execution_count": 16
        }
      ]
    },
    {
      "cell_type": "code",
      "source": [
        "n[:, 2] = [0, 1, 2]\n",
        "n"
      ],
      "metadata": {
        "colab": {
          "base_uri": "https://localhost:8080/"
        },
        "id": "PAr53_kdP8P-",
        "outputId": "be721876-dffa-4a1e-c27c-7d7115d583b1"
      },
      "execution_count": 17,
      "outputs": [
        {
          "output_type": "execute_result",
          "data": {
            "text/plain": [
              "array([[ 1, 20,  0],\n",
              "       [ 4,  5,  1],\n",
              "       [ 1,  1,  2]])"
            ]
          },
          "metadata": {},
          "execution_count": 17
        }
      ]
    },
    {
      "cell_type": "markdown",
      "source": [
        "## Randomly generated arrays"
      ],
      "metadata": {
        "id": "bxeUDhwWQJyi"
      }
    },
    {
      "cell_type": "code",
      "source": [
        "np.random.seed(2)\n",
        "100 * np.random.rand(5, 2)"
      ],
      "metadata": {
        "colab": {
          "base_uri": "https://localhost:8080/"
        },
        "id": "nIfqiCOXP8Kc",
        "outputId": "bb7f2dd8-4123-4640-ccbd-be891514490c"
      },
      "execution_count": 18,
      "outputs": [
        {
          "output_type": "execute_result",
          "data": {
            "text/plain": [
              "array([[43.59949021,  2.59262318],\n",
              "       [54.96624779, 43.53223926],\n",
              "       [42.03678021, 33.0334821 ],\n",
              "       [20.4648634 , 61.92709664],\n",
              "       [29.96546737, 26.68272751]])"
            ]
          },
          "metadata": {},
          "execution_count": 18
        }
      ]
    },
    {
      "cell_type": "code",
      "source": [
        "np.random.seed(2)\n",
        "np.random.randn(5, 2)"
      ],
      "metadata": {
        "colab": {
          "base_uri": "https://localhost:8080/"
        },
        "id": "KytdMyt5Pm_q",
        "outputId": "4a863d28-7887-421b-945e-d9824dc2e92d"
      },
      "execution_count": 19,
      "outputs": [
        {
          "output_type": "execute_result",
          "data": {
            "text/plain": [
              "array([[-0.41675785, -0.05626683],\n",
              "       [-2.1361961 ,  1.64027081],\n",
              "       [-1.79343559, -0.84174737],\n",
              "       [ 0.50288142, -1.24528809],\n",
              "       [-1.05795222, -0.90900761]])"
            ]
          },
          "metadata": {},
          "execution_count": 19
        }
      ]
    },
    {
      "cell_type": "code",
      "source": [
        "np.random.seed(2)\n",
        "np.random.randint(low=0, high=100, size=(5, 2))"
      ],
      "metadata": {
        "colab": {
          "base_uri": "https://localhost:8080/"
        },
        "id": "QPgYVe8UQZf7",
        "outputId": "c2376a87-c066-4652-8358-82557ef9ddca"
      },
      "execution_count": 20,
      "outputs": [
        {
          "output_type": "execute_result",
          "data": {
            "text/plain": [
              "array([[40, 15],\n",
              "       [72, 22],\n",
              "       [43, 82],\n",
              "       [75,  7],\n",
              "       [34, 49]])"
            ]
          },
          "metadata": {},
          "execution_count": 20
        }
      ]
    },
    {
      "cell_type": "markdown",
      "source": [
        "## Element-wise operations\n"
      ],
      "metadata": {
        "id": "v5lOSJLtQcVW"
      }
    },
    {
      "cell_type": "code",
      "source": [
        "a = np.arange(5)\n",
        "a"
      ],
      "metadata": {
        "colab": {
          "base_uri": "https://localhost:8080/"
        },
        "id": "CLniEqyYQg4x",
        "outputId": "dc2a7142-f7db-4f54-fdb9-dd6f5657dab9"
      },
      "execution_count": 21,
      "outputs": [
        {
          "output_type": "execute_result",
          "data": {
            "text/plain": [
              "array([0, 1, 2, 3, 4])"
            ]
          },
          "metadata": {},
          "execution_count": 21
        }
      ]
    },
    {
      "cell_type": "code",
      "source": [
        "b = (10 + (a * 2)) ** 2 / 100\n",
        "b"
      ],
      "metadata": {
        "colab": {
          "base_uri": "https://localhost:8080/"
        },
        "id": "dgvdFO1eQguU",
        "outputId": "c34d6904-38bb-4f2b-f830-bbf8cefc9602"
      },
      "execution_count": 22,
      "outputs": [
        {
          "output_type": "execute_result",
          "data": {
            "text/plain": [
              "array([1.  , 1.44, 1.96, 2.56, 3.24])"
            ]
          },
          "metadata": {},
          "execution_count": 22
        }
      ]
    },
    {
      "cell_type": "code",
      "source": [
        "a / b + 10"
      ],
      "metadata": {
        "colab": {
          "base_uri": "https://localhost:8080/"
        },
        "id": "l7XvbgK7Qgm2",
        "outputId": "898be6b0-e7d5-4c85-a954-5679d4c1c315"
      },
      "execution_count": 23,
      "outputs": [
        {
          "output_type": "execute_result",
          "data": {
            "text/plain": [
              "array([10.        , 10.69444444, 11.02040816, 11.171875  , 11.2345679 ])"
            ]
          },
          "metadata": {},
          "execution_count": 23
        }
      ]
    },
    {
      "cell_type": "markdown",
      "source": [
        "## Comparison operations"
      ],
      "metadata": {
        "id": "86T1XoHMQn5r"
      }
    },
    {
      "cell_type": "code",
      "source": [
        "a"
      ],
      "metadata": {
        "colab": {
          "base_uri": "https://localhost:8080/"
        },
        "id": "MwO-rCgrQp7j",
        "outputId": "02b10b65-1414-4040-ad72-c177cc39b197"
      },
      "execution_count": 24,
      "outputs": [
        {
          "output_type": "execute_result",
          "data": {
            "text/plain": [
              "array([0, 1, 2, 3, 4])"
            ]
          },
          "metadata": {},
          "execution_count": 24
        }
      ]
    },
    {
      "cell_type": "code",
      "source": [
        "a >= 2"
      ],
      "metadata": {
        "colab": {
          "base_uri": "https://localhost:8080/"
        },
        "id": "I4_g0orzQpzd",
        "outputId": "385fc1a6-14a5-488a-be72-8496885a71ce"
      },
      "execution_count": 25,
      "outputs": [
        {
          "output_type": "execute_result",
          "data": {
            "text/plain": [
              "array([False, False,  True,  True,  True])"
            ]
          },
          "metadata": {},
          "execution_count": 25
        }
      ]
    },
    {
      "cell_type": "code",
      "source": [
        "b"
      ],
      "metadata": {
        "colab": {
          "base_uri": "https://localhost:8080/"
        },
        "id": "rJRFVV9iQpYf",
        "outputId": "a4e57454-d7b7-419d-bdff-311be73c9757"
      },
      "execution_count": 26,
      "outputs": [
        {
          "output_type": "execute_result",
          "data": {
            "text/plain": [
              "array([1.  , 1.44, 1.96, 2.56, 3.24])"
            ]
          },
          "metadata": {},
          "execution_count": 26
        }
      ]
    },
    {
      "cell_type": "code",
      "source": [
        "a > b"
      ],
      "metadata": {
        "colab": {
          "base_uri": "https://localhost:8080/"
        },
        "id": "361tuYRCQy-2",
        "outputId": "9d722151-19f1-4be3-a7d5-5da554a00604"
      },
      "execution_count": 27,
      "outputs": [
        {
          "output_type": "execute_result",
          "data": {
            "text/plain": [
              "array([False, False,  True,  True,  True])"
            ]
          },
          "metadata": {},
          "execution_count": 27
        }
      ]
    },
    {
      "cell_type": "code",
      "source": [
        "a[a > b]"
      ],
      "metadata": {
        "colab": {
          "base_uri": "https://localhost:8080/"
        },
        "id": "9vWjsEomQ2oC",
        "outputId": "dff9e19c-cd17-4eb0-874e-df8676cb83dc"
      },
      "execution_count": 28,
      "outputs": [
        {
          "output_type": "execute_result",
          "data": {
            "text/plain": [
              "array([2, 3, 4])"
            ]
          },
          "metadata": {},
          "execution_count": 28
        }
      ]
    },
    {
      "cell_type": "markdown",
      "source": [
        "## Summarizing operations"
      ],
      "metadata": {
        "id": "6YqPMtOWQ58Z"
      }
    },
    {
      "cell_type": "code",
      "source": [
        "a"
      ],
      "metadata": {
        "colab": {
          "base_uri": "https://localhost:8080/"
        },
        "id": "S3qWcpyHQ7u8",
        "outputId": "a7b1a0fe-0ed3-4d1b-9373-ca3d3e523152"
      },
      "execution_count": 29,
      "outputs": [
        {
          "output_type": "execute_result",
          "data": {
            "text/plain": [
              "array([0, 1, 2, 3, 4])"
            ]
          },
          "metadata": {},
          "execution_count": 29
        }
      ]
    },
    {
      "cell_type": "code",
      "source": [
        "a.std()"
      ],
      "metadata": {
        "colab": {
          "base_uri": "https://localhost:8080/"
        },
        "id": "gZluK_ugQ86k",
        "outputId": "ad130ac0-f1b6-42a6-d997-b9aa872a2796"
      },
      "execution_count": 30,
      "outputs": [
        {
          "output_type": "execute_result",
          "data": {
            "text/plain": [
              "1.4142135623730951"
            ]
          },
          "metadata": {},
          "execution_count": 30
        }
      ]
    },
    {
      "cell_type": "code",
      "source": [
        "n.min()"
      ],
      "metadata": {
        "colab": {
          "base_uri": "https://localhost:8080/"
        },
        "id": "hEQsRBcsRBgu",
        "outputId": "87be6250-0a3f-4c2a-a557-ea6e317fa99e"
      },
      "execution_count": 31,
      "outputs": [
        {
          "output_type": "execute_result",
          "data": {
            "text/plain": [
              "0"
            ]
          },
          "metadata": {},
          "execution_count": 31
        }
      ]
    },
    {
      "cell_type": "markdown",
      "source": [
        "### Next\n",
        "\n",
        "Linear algebra refresher"
      ],
      "metadata": {
        "id": "0T1Hl1JHRIvw"
      }
    }
  ]
}